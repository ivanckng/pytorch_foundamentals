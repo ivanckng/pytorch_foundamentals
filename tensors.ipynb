{
 "cells": [
  {
   "metadata": {
    "ExecuteTime": {
     "end_time": "2025-08-25T12:06:17.951882Z",
     "start_time": "2025-08-25T12:06:17.050040Z"
    }
   },
   "cell_type": "code",
   "source": "!pip3 install torch torchvision --index-url https://download.pytorch.org/whl/cu128",
   "id": "46a798858618cfb5",
   "outputs": [
    {
     "name": "stdout",
     "output_type": "stream",
     "text": [
      "Looking in indexes: https://download.pytorch.org/whl/cu128\n",
      "Requirement already satisfied: torch in d:\\github\\pytorch_foundamentals\\.venv\\lib\\site-packages (2.8.0+cu128)\n",
      "Requirement already satisfied: torchvision in d:\\github\\pytorch_foundamentals\\.venv\\lib\\site-packages (0.23.0+cu128)\n",
      "Requirement already satisfied: filelock in d:\\github\\pytorch_foundamentals\\.venv\\lib\\site-packages (from torch) (3.19.1)\n",
      "Requirement already satisfied: typing-extensions>=4.10.0 in d:\\github\\pytorch_foundamentals\\.venv\\lib\\site-packages (from torch) (4.14.1)\n",
      "Requirement already satisfied: sympy>=1.13.3 in d:\\github\\pytorch_foundamentals\\.venv\\lib\\site-packages (from torch) (1.14.0)\n",
      "Requirement already satisfied: networkx in d:\\github\\pytorch_foundamentals\\.venv\\lib\\site-packages (from torch) (3.5)\n",
      "Requirement already satisfied: jinja2 in d:\\github\\pytorch_foundamentals\\.venv\\lib\\site-packages (from torch) (3.1.6)\n",
      "Requirement already satisfied: fsspec in d:\\github\\pytorch_foundamentals\\.venv\\lib\\site-packages (from torch) (2025.7.0)\n",
      "Requirement already satisfied: setuptools in d:\\github\\pytorch_foundamentals\\.venv\\lib\\site-packages (from torch) (80.9.0)\n",
      "Requirement already satisfied: numpy in d:\\github\\pytorch_foundamentals\\.venv\\lib\\site-packages (from torchvision) (2.3.2)\n",
      "Requirement already satisfied: pillow!=8.3.*,>=5.3.0 in d:\\github\\pytorch_foundamentals\\.venv\\lib\\site-packages (from torchvision) (11.3.0)\n",
      "Requirement already satisfied: mpmath<1.4,>=1.1.0 in d:\\github\\pytorch_foundamentals\\.venv\\lib\\site-packages (from sympy>=1.13.3->torch) (1.3.0)\n",
      "Requirement already satisfied: MarkupSafe>=2.0 in d:\\github\\pytorch_foundamentals\\.venv\\lib\\site-packages (from jinja2->torch) (3.0.2)\n"
     ]
    },
    {
     "name": "stderr",
     "output_type": "stream",
     "text": [
      "\n",
      "[notice] A new release of pip is available: 25.1.1 -> 25.2\n",
      "[notice] To update, run: python.exe -m pip install --upgrade pip\n"
     ]
    }
   ],
   "execution_count": 1
  },
  {
   "metadata": {
    "ExecuteTime": {
     "end_time": "2025-08-25T12:06:22.725164Z",
     "start_time": "2025-08-25T12:06:21.524364Z"
    }
   },
   "cell_type": "code",
   "source": [
    "import torch\n",
    "print(torch.__version__)"
   ],
   "id": "64f95755faedd1e1",
   "outputs": [
    {
     "name": "stdout",
     "output_type": "stream",
     "text": [
      "2.8.0+cu128\n"
     ]
    }
   ],
   "execution_count": 2
  },
  {
   "metadata": {},
   "cell_type": "markdown",
   "source": "# Initialising Tensor",
   "id": "4bc847eba4ae75e9"
  },
  {
   "metadata": {
    "ExecuteTime": {
     "end_time": "2025-08-25T12:11:59.257854Z",
     "start_time": "2025-08-25T12:11:59.247242Z"
    }
   },
   "cell_type": "code",
   "source": [
    "# store the tensor on cuda (GPU)\n",
    "device = \"cuda\" if torch.cuda.is_available() else \"cpu\"\n",
    "my_tensor = torch.tensor([[1,2,3],[4,5,6]],\n",
    "                         dtype = torch.float32,\n",
    "                         device = device,\n",
    "                         requires_grad = True) # useful for autograd for backpropagation\n",
    "print(my_tensor)\n",
    "print(my_tensor.dtype)\n",
    "print(my_tensor.device)\n",
    "print(my_tensor.shape)"
   ],
   "id": "fa8c898c3406d132",
   "outputs": [
    {
     "name": "stdout",
     "output_type": "stream",
     "text": [
      "tensor([[1., 2., 3.],\n",
      "        [4., 5., 6.]], device='cuda:0', requires_grad=True)\n",
      "torch.float32\n",
      "cuda:0\n",
      "torch.Size([2, 3])\n"
     ]
    }
   ],
   "execution_count": 15
  },
  {
   "metadata": {
    "ExecuteTime": {
     "end_time": "2025-08-25T12:20:00.863211Z",
     "start_time": "2025-08-25T12:20:00.850523Z"
    }
   },
   "cell_type": "code",
   "source": [
    "x1 = torch.empty(size = (3,3)) # the values is not zero but uninistialised data\n",
    "print(x1)\n",
    "x2 = torch.zeros(size = (3,3))\n",
    "print(x2)\n",
    "x3 = torch.ones(size = (3,3))\n",
    "print(x3)\n",
    "x4 = torch.rand(size = (3,3))\n",
    "print(x4)\n",
    "x5 = torch.eye(3,3) # identity matrics I\n",
    "print(x5)\n",
    "x6 = torch.arange(start = 0, end=10, step = 2)\n",
    "print(x6)\n",
    "x7 = torch.linspace(start = 0.1, end = 1, steps = 10)\n",
    "print(x7)\n",
    "x8 = torch.empty(size = (1,5)).normal_(mean = 0, std = 1)\n",
    "print(x8)\n",
    "x9 = torch.diag(torch.ones(3))\n",
    "print(x9)"
   ],
   "id": "1d32b54ff3473a3b",
   "outputs": [
    {
     "name": "stdout",
     "output_type": "stream",
     "text": [
      "tensor([[0., 0., 0.],\n",
      "        [0., 0., 0.],\n",
      "        [0., 0., 0.]])\n",
      "tensor([[0., 0., 0.],\n",
      "        [0., 0., 0.],\n",
      "        [0., 0., 0.]])\n",
      "tensor([[1., 1., 1.],\n",
      "        [1., 1., 1.],\n",
      "        [1., 1., 1.]])\n",
      "tensor([[0.9072, 0.1718, 0.7274],\n",
      "        [0.1371, 0.6723, 0.2226],\n",
      "        [0.3290, 0.4328, 0.9129]])\n",
      "tensor([[1., 0., 0.],\n",
      "        [0., 1., 0.],\n",
      "        [0., 0., 1.]])\n",
      "tensor([0, 2, 4, 6, 8])\n",
      "tensor([0.1000, 0.2000, 0.3000, 0.4000, 0.5000, 0.6000, 0.7000, 0.8000, 0.9000,\n",
      "        1.0000])\n",
      "tensor([[-0.8996, -0.3080,  2.7760, -0.3528, -0.3810]])\n",
      "tensor([[1., 0., 0.],\n",
      "        [0., 1., 0.],\n",
      "        [0., 0., 1.]])\n"
     ]
    }
   ],
   "execution_count": 33
  },
  {
   "metadata": {},
   "cell_type": "markdown",
   "source": "# How to initialise and convert tensors to other types",
   "id": "a27538a39c693984"
  },
  {
   "metadata": {
    "ExecuteTime": {
     "end_time": "2025-08-25T12:25:46.476599Z",
     "start_time": "2025-08-25T12:25:46.470540Z"
    }
   },
   "cell_type": "code",
   "source": [
    "my_tensor = torch.tensor([[1,2,3],[4,5,6]])\n",
    "print(my_tensor.bool())\n",
    "print(my_tensor.short()) # to int16 (use 2 bytes)\n",
    "print(my_tensor.long()) # to int64 (use 8 bytes)\n",
    "print(my_tensor.half()) # to float16\n",
    "print(my_tensor.float()) # to float32\n",
    "print(my_tensor.double()) # to float64\n"
   ],
   "id": "4b56bac635f4ffa3",
   "outputs": [
    {
     "name": "stdout",
     "output_type": "stream",
     "text": [
      "tensor([[True, True, True],\n",
      "        [True, True, True]])\n",
      "tensor([[1, 2, 3],\n",
      "        [4, 5, 6]], dtype=torch.int16)\n",
      "tensor([[1, 2, 3],\n",
      "        [4, 5, 6]])\n",
      "tensor([[1., 2., 3.],\n",
      "        [4., 5., 6.]], dtype=torch.float16)\n",
      "tensor([[1., 2., 3.],\n",
      "        [4., 5., 6.]])\n",
      "tensor([[1., 2., 3.],\n",
      "        [4., 5., 6.]], dtype=torch.float64)\n"
     ]
    }
   ],
   "execution_count": 44
  },
  {
   "metadata": {},
   "cell_type": "markdown",
   "source": "# Array to Tensor Conversion and Vice Versa",
   "id": "b7fe2980da1ea181"
  },
  {
   "metadata": {
    "ExecuteTime": {
     "end_time": "2025-08-25T12:26:20.618792Z",
     "start_time": "2025-08-25T12:26:20.614057Z"
    }
   },
   "cell_type": "code",
   "source": "import numpy as np",
   "id": "5a4cfb2df54ea95c",
   "outputs": [],
   "execution_count": 45
  },
  {
   "metadata": {
    "ExecuteTime": {
     "end_time": "2025-08-25T12:28:13.268026Z",
     "start_time": "2025-08-25T12:28:13.254917Z"
    }
   },
   "cell_type": "code",
   "source": [
    "np_arrary = np.zeros((5,5))\n",
    "print(np_arrary)\n",
    "tensor = torch.from_numpy(np_arrary)\n",
    "print(tensor)\n",
    "np_array_back = tensor.numpy()\n",
    "print(np_array_back)"
   ],
   "id": "bca9cb5d2e5268c9",
   "outputs": [
    {
     "name": "stdout",
     "output_type": "stream",
     "text": [
      "[[0. 0. 0. 0. 0.]\n",
      " [0. 0. 0. 0. 0.]\n",
      " [0. 0. 0. 0. 0.]\n",
      " [0. 0. 0. 0. 0.]\n",
      " [0. 0. 0. 0. 0.]]\n",
      "tensor([[0., 0., 0., 0., 0.],\n",
      "        [0., 0., 0., 0., 0.],\n",
      "        [0., 0., 0., 0., 0.],\n",
      "        [0., 0., 0., 0., 0.],\n",
      "        [0., 0., 0., 0., 0.]], dtype=torch.float64)\n",
      "[[0. 0. 0. 0. 0.]\n",
      " [0. 0. 0. 0. 0.]\n",
      " [0. 0. 0. 0. 0.]\n",
      " [0. 0. 0. 0. 0.]\n",
      " [0. 0. 0. 0. 0.]]\n"
     ]
    }
   ],
   "execution_count": 49
  },
  {
   "metadata": {},
   "cell_type": "markdown",
   "source": "# Tensor Maths & Comparison Operations|",
   "id": "25a543aaeda41a56"
  },
  {
   "metadata": {
    "ExecuteTime": {
     "end_time": "2025-08-25T12:29:44.077649Z",
     "start_time": "2025-08-25T12:29:44.072607Z"
    }
   },
   "cell_type": "code",
   "source": [
    "x = torch.tensor([1,2,3])\n",
    "y = torch.tensor([9,8,7])"
   ],
   "id": "4c9cd25e62f102ed",
   "outputs": [],
   "execution_count": 51
  },
  {
   "metadata": {},
   "cell_type": "markdown",
   "source": "## Addition",
   "id": "51dec7da9f449027"
  },
  {
   "metadata": {
    "ExecuteTime": {
     "end_time": "2025-08-25T12:30:58.049214Z",
     "start_time": "2025-08-25T12:30:58.044764Z"
    }
   },
   "cell_type": "code",
   "source": [
    "z1 = torch.empty(3)\n",
    "torch.add(x,y,out=z1)\n",
    "print(z1)\n",
    "z2 = torch.add(x,y)\n",
    "print(z2)\n",
    "z3 = x + y\n",
    "print(z3)"
   ],
   "id": "1adab592ff2a371c",
   "outputs": [
    {
     "name": "stdout",
     "output_type": "stream",
     "text": [
      "tensor([10., 10., 10.])\n",
      "tensor([10, 10, 10])\n",
      "tensor([10, 10, 10])\n"
     ]
    }
   ],
   "execution_count": 55
  },
  {
   "metadata": {},
   "cell_type": "markdown",
   "source": "## Subtraction",
   "id": "279af794c74c853a"
  },
  {
   "metadata": {
    "ExecuteTime": {
     "end_time": "2025-08-25T12:31:27.772911Z",
     "start_time": "2025-08-25T12:31:27.766314Z"
    }
   },
   "cell_type": "code",
   "source": [
    "z4 = x - y\n",
    "print(z4)"
   ],
   "id": "c3d08fdbd8bad9d8",
   "outputs": [
    {
     "name": "stdout",
     "output_type": "stream",
     "text": [
      "tensor([-8, -6, -4])\n"
     ]
    }
   ],
   "execution_count": 57
  },
  {
   "metadata": {},
   "cell_type": "markdown",
   "source": "## Division",
   "id": "83a59209dae6dc65"
  },
  {
   "metadata": {
    "ExecuteTime": {
     "end_time": "2025-08-25T12:32:13.410731Z",
     "start_time": "2025-08-25T12:32:13.405218Z"
    }
   },
   "cell_type": "code",
   "source": [
    "z5 = torch.true_divide(x,y)\n",
    "print(z5)"
   ],
   "id": "bda2ab90b54fa443",
   "outputs": [
    {
     "name": "stdout",
     "output_type": "stream",
     "text": [
      "tensor([0.1111, 0.2500, 0.4286])\n"
     ]
    }
   ],
   "execution_count": 60
  },
  {
   "metadata": {},
   "cell_type": "markdown",
   "source": "## Inplace Operations",
   "id": "5a76a529fd9982fa"
  },
  {
   "metadata": {
    "ExecuteTime": {
     "end_time": "2025-08-25T12:33:09.762574Z",
     "start_time": "2025-08-25T12:33:09.755025Z"
    }
   },
   "cell_type": "code",
   "source": [
    "t = torch.zeros(3)\n",
    "t.add_(x)\n",
    "print(t)\n",
    "t += x\n",
    "print(t)"
   ],
   "id": "aa72f8a9b7b8788c",
   "outputs": [
    {
     "name": "stdout",
     "output_type": "stream",
     "text": [
      "tensor([1., 2., 3.])\n",
      "tensor([2., 4., 6.])\n"
     ]
    }
   ],
   "execution_count": 62
  },
  {
   "metadata": {},
   "cell_type": "markdown",
   "source": "## Exponentiation",
   "id": "ab7d22180e4d5213"
  },
  {
   "metadata": {
    "ExecuteTime": {
     "end_time": "2025-08-25T12:33:50.416141Z",
     "start_time": "2025-08-25T12:33:50.409571Z"
    }
   },
   "cell_type": "code",
   "source": [
    "z = x.pow(2)\n",
    "print(z)\n",
    "z = x ** 2\n",
    "print(z)"
   ],
   "id": "29793908de694c95",
   "outputs": [
    {
     "name": "stdout",
     "output_type": "stream",
     "text": [
      "tensor([1, 4, 9])\n",
      "tensor([1, 4, 9])\n"
     ]
    }
   ],
   "execution_count": 64
  },
  {
   "metadata": {},
   "cell_type": "markdown",
   "source": "## Simple Comparison",
   "id": "37a8e6027d00947e"
  },
  {
   "metadata": {
    "ExecuteTime": {
     "end_time": "2025-08-25T12:34:28.501705Z",
     "start_time": "2025-08-25T12:34:28.495562Z"
    }
   },
   "cell_type": "code",
   "source": [
    "z = x > 0\n",
    "print(z)\n",
    "z = x < 0\n",
    "print(z)"
   ],
   "id": "a311d52e1f3361e5",
   "outputs": [
    {
     "name": "stdout",
     "output_type": "stream",
     "text": [
      "tensor([True, True, True])\n",
      "tensor([False, False, False])\n"
     ]
    }
   ],
   "execution_count": 66
  },
  {
   "metadata": {},
   "cell_type": "markdown",
   "source": "## Matrix Multiplication",
   "id": "b2b9c392e7b7d90"
  },
  {
   "metadata": {
    "ExecuteTime": {
     "end_time": "2025-08-25T12:36:12.128351Z",
     "start_time": "2025-08-25T12:36:12.123315Z"
    }
   },
   "cell_type": "code",
   "source": [
    "x1 = torch.rand((2,5))\n",
    "x2 = torch.rand((5,3))\n",
    "x3 = torch.mm(x1,x2)\n",
    "print(x3)\n",
    "x4 = x1.mm(x2)\n",
    "print(x4)"
   ],
   "id": "5787b89b952e8a57",
   "outputs": [
    {
     "name": "stdout",
     "output_type": "stream",
     "text": [
      "tensor([[0.8912, 1.4679, 0.7802],\n",
      "        [0.9840, 1.1380, 0.9983]])\n",
      "tensor([[0.8912, 1.4679, 0.7802],\n",
      "        [0.9840, 1.1380, 0.9983]])\n"
     ]
    }
   ],
   "execution_count": 70
  },
  {
   "metadata": {},
   "cell_type": "markdown",
   "source": "## Matrix Exponentiation",
   "id": "52dbe2c28bc7bc97"
  },
  {
   "metadata": {
    "ExecuteTime": {
     "end_time": "2025-08-25T12:36:55.990627Z",
     "start_time": "2025-08-25T12:36:55.983027Z"
    }
   },
   "cell_type": "code",
   "source": [
    "matrix_exp = torch.rand(5,5)\n",
    "matrix_exp.matrix_power(3)\n",
    "print(matrix_exp)"
   ],
   "id": "e74e731dd2853291",
   "outputs": [
    {
     "name": "stdout",
     "output_type": "stream",
     "text": [
      "tensor([[0.0776, 0.9147, 0.5477, 0.6982, 0.5237],\n",
      "        [0.5580, 0.8934, 0.5037, 0.0108, 0.6280],\n",
      "        [0.3702, 0.9875, 0.2423, 0.4419, 0.6851],\n",
      "        [0.3828, 0.4076, 0.8272, 0.4796, 0.3511],\n",
      "        [0.5747, 0.7785, 0.8368, 0.9090, 0.1010]])\n"
     ]
    }
   ],
   "execution_count": 71
  },
  {
   "metadata": {},
   "cell_type": "markdown",
   "source": "## Element Wise Multiplication",
   "id": "fd5120192cd0e320"
  },
  {
   "metadata": {
    "ExecuteTime": {
     "end_time": "2025-08-25T12:38:02.214286Z",
     "start_time": "2025-08-25T12:38:02.208333Z"
    }
   },
   "cell_type": "code",
   "source": [
    "z = x * y\n",
    "print(z)"
   ],
   "id": "60d1874fa1cc79e3",
   "outputs": [
    {
     "name": "stdout",
     "output_type": "stream",
     "text": [
      "tensor([ 9, 16, 21])\n"
     ]
    }
   ],
   "execution_count": 73
  },
  {
   "metadata": {},
   "cell_type": "markdown",
   "source": "## Dot Product",
   "id": "af74552abe33df65"
  },
  {
   "metadata": {
    "ExecuteTime": {
     "end_time": "2025-08-25T12:38:28.733077Z",
     "start_time": "2025-08-25T12:38:28.726740Z"
    }
   },
   "cell_type": "code",
   "source": [
    "z = torch.dot(x,y)\n",
    "print(z)"
   ],
   "id": "ad30600baa7e7fb3",
   "outputs": [
    {
     "name": "stdout",
     "output_type": "stream",
     "text": [
      "tensor(46)\n"
     ]
    }
   ],
   "execution_count": 74
  },
  {
   "metadata": {},
   "cell_type": "markdown",
   "source": "## Batch Matrix Multiplication",
   "id": "df35c0989f44fb9c"
  },
  {
   "metadata": {
    "ExecuteTime": {
     "end_time": "2025-08-25T12:38:58.714597Z",
     "start_time": "2025-08-25T12:38:58.709481Z"
    }
   },
   "cell_type": "code",
   "source": [
    "batch = 32\n",
    "n = 10\n",
    "m = 20\n",
    "p = 30"
   ],
   "id": "2bcd55ca82d2d159",
   "outputs": [],
   "execution_count": 75
  },
  {
   "metadata": {
    "ExecuteTime": {
     "end_time": "2025-08-25T12:40:23.180763Z",
     "start_time": "2025-08-25T12:40:23.151771Z"
    }
   },
   "cell_type": "code",
   "source": [
    "tensor1 = torch.rand((batch,n,m))\n",
    "print(tensor1)\n",
    "tensor2 = torch.rand((batch,m,p))\n",
    "print(tensor2)\n",
    "out_bmm = torch.bmm(tensor1, tensor2) # batch, n, p"
   ],
   "id": "3d98f0adf9282850",
   "outputs": [
    {
     "name": "stdout",
     "output_type": "stream",
     "text": [
      "tensor([[[1.8625e-01, 5.4215e-01, 6.2484e-01,  ..., 9.1648e-01,\n",
      "          2.5522e-01, 8.9167e-01],\n",
      "         [2.5499e-01, 9.6767e-01, 6.1583e-01,  ..., 1.7615e-01,\n",
      "          9.8343e-01, 6.9127e-01],\n",
      "         [6.2983e-02, 8.8969e-01, 5.6680e-01,  ..., 5.4676e-01,\n",
      "          9.5317e-01, 9.0713e-01],\n",
      "         ...,\n",
      "         [4.8452e-01, 1.9665e-01, 7.5685e-02,  ..., 1.6189e-01,\n",
      "          3.6331e-01, 8.6274e-01],\n",
      "         [7.7615e-01, 3.1569e-01, 2.5694e-01,  ..., 7.8023e-01,\n",
      "          4.9753e-01, 3.6914e-01],\n",
      "         [3.9223e-01, 7.8440e-01, 2.6954e-01,  ..., 8.6629e-01,\n",
      "          8.3967e-01, 9.1223e-01]],\n",
      "\n",
      "        [[8.3038e-01, 3.1680e-01, 8.9343e-02,  ..., 7.1499e-01,\n",
      "          9.3580e-01, 6.5724e-01],\n",
      "         [5.1857e-01, 7.8323e-01, 1.7766e-01,  ..., 8.9901e-01,\n",
      "          4.9905e-01, 6.6645e-01],\n",
      "         [3.0057e-01, 2.6418e-01, 3.1136e-01,  ..., 8.4469e-01,\n",
      "          8.4964e-01, 6.5220e-01],\n",
      "         ...,\n",
      "         [4.5736e-01, 2.8167e-01, 8.8835e-01,  ..., 1.1818e-02,\n",
      "          7.6103e-01, 9.8720e-01],\n",
      "         [9.6749e-01, 6.0027e-01, 2.1844e-01,  ..., 1.1575e-01,\n",
      "          5.5718e-01, 8.5486e-01],\n",
      "         [6.2150e-01, 7.0697e-01, 5.7241e-01,  ..., 5.1469e-01,\n",
      "          7.1874e-01, 6.9745e-01]],\n",
      "\n",
      "        [[9.3666e-01, 9.7843e-01, 6.1666e-01,  ..., 9.1867e-01,\n",
      "          9.0148e-01, 6.1738e-01],\n",
      "         [3.3322e-01, 3.2622e-01, 9.7687e-01,  ..., 2.6504e-01,\n",
      "          7.3879e-01, 2.9543e-02],\n",
      "         [7.5877e-01, 1.5312e-01, 5.4082e-01,  ..., 1.3491e-01,\n",
      "          8.4190e-01, 1.6470e-01],\n",
      "         ...,\n",
      "         [8.0778e-01, 7.4224e-01, 7.7520e-01,  ..., 6.5932e-01,\n",
      "          3.2119e-01, 2.5535e-01],\n",
      "         [2.6472e-01, 3.9789e-02, 4.5209e-01,  ..., 2.5959e-01,\n",
      "          2.9531e-01, 4.0390e-01],\n",
      "         [4.5997e-01, 2.9496e-01, 5.8612e-01,  ..., 2.3454e-01,\n",
      "          4.3153e-01, 7.5551e-01]],\n",
      "\n",
      "        ...,\n",
      "\n",
      "        [[3.5254e-01, 3.1084e-01, 6.7987e-01,  ..., 6.1834e-01,\n",
      "          9.9578e-01, 4.8505e-01],\n",
      "         [6.3687e-01, 6.3219e-01, 8.7314e-01,  ..., 6.8036e-02,\n",
      "          9.5332e-01, 3.7302e-01],\n",
      "         [7.9336e-01, 3.5605e-01, 6.2677e-01,  ..., 2.0329e-01,\n",
      "          9.1123e-01, 6.3882e-01],\n",
      "         ...,\n",
      "         [8.0967e-01, 6.8542e-01, 1.8030e-04,  ..., 3.7756e-01,\n",
      "          4.2036e-01, 8.1928e-01],\n",
      "         [1.5610e-01, 3.4361e-01, 6.1757e-01,  ..., 9.9047e-01,\n",
      "          6.8889e-01, 3.1286e-01],\n",
      "         [4.0429e-01, 9.7399e-01, 8.7200e-01,  ..., 5.6538e-01,\n",
      "          2.6431e-01, 4.9179e-01]],\n",
      "\n",
      "        [[6.4385e-01, 2.8444e-01, 7.8520e-02,  ..., 4.0828e-01,\n",
      "          4.3216e-01, 2.0658e-01],\n",
      "         [7.3357e-02, 2.3892e-01, 8.8156e-01,  ..., 8.1076e-01,\n",
      "          4.4958e-01, 1.6246e-01],\n",
      "         [6.9760e-01, 6.9842e-01, 1.8113e-01,  ..., 2.5181e-01,\n",
      "          2.1587e-02, 8.6109e-01],\n",
      "         ...,\n",
      "         [6.6497e-02, 9.0217e-01, 7.4902e-01,  ..., 1.1519e-01,\n",
      "          3.1072e-01, 4.9502e-01],\n",
      "         [9.6715e-02, 1.1489e-02, 6.5027e-01,  ..., 4.3307e-01,\n",
      "          9.2840e-01, 5.0941e-01],\n",
      "         [5.5356e-01, 8.9406e-01, 4.6463e-01,  ..., 9.6136e-01,\n",
      "          8.9502e-01, 5.9887e-01]],\n",
      "\n",
      "        [[1.8675e-01, 8.2753e-01, 8.5127e-01,  ..., 4.3697e-01,\n",
      "          8.5610e-01, 9.9709e-01],\n",
      "         [2.9081e-01, 1.8747e-01, 6.9734e-01,  ..., 1.1869e-01,\n",
      "          1.3230e-01, 6.3549e-01],\n",
      "         [3.3808e-01, 1.6263e-01, 4.9886e-01,  ..., 1.5462e-01,\n",
      "          2.4645e-01, 6.2122e-01],\n",
      "         ...,\n",
      "         [2.3988e-01, 6.6678e-01, 8.8869e-01,  ..., 7.2224e-01,\n",
      "          6.7664e-01, 9.2345e-01],\n",
      "         [3.0157e-01, 1.2808e-01, 3.1613e-01,  ..., 2.6723e-02,\n",
      "          8.6519e-01, 8.5779e-01],\n",
      "         [3.2620e-01, 2.5039e-01, 6.5520e-01,  ..., 3.2419e-01,\n",
      "          4.4026e-01, 9.7667e-01]]])\n",
      "tensor([[[0.2404, 0.9911, 0.8231,  ..., 0.7428, 0.4785, 0.1199],\n",
      "         [0.0327, 0.8361, 0.3967,  ..., 0.3235, 0.0432, 0.0756],\n",
      "         [0.0042, 0.2996, 0.5612,  ..., 0.8721, 0.8688, 0.6454],\n",
      "         ...,\n",
      "         [0.3066, 0.2314, 0.9724,  ..., 0.4346, 0.4016, 0.3985],\n",
      "         [0.9402, 0.8496, 0.7639,  ..., 0.7514, 0.7339, 0.6016],\n",
      "         [0.1553, 0.3218, 0.0904,  ..., 0.6496, 0.0588, 0.0785]],\n",
      "\n",
      "        [[0.0701, 0.6529, 0.1431,  ..., 0.7049, 0.9581, 0.0674],\n",
      "         [0.6051, 0.2330, 0.3068,  ..., 0.0297, 0.1026, 0.2324],\n",
      "         [0.3063, 0.9046, 0.3656,  ..., 0.2859, 0.7465, 0.1378],\n",
      "         ...,\n",
      "         [0.7567, 0.9076, 0.3238,  ..., 0.4404, 0.7026, 0.7107],\n",
      "         [0.8551, 0.6322, 0.3103,  ..., 0.9768, 0.4931, 0.8314],\n",
      "         [0.6901, 0.3692, 0.9792,  ..., 0.0164, 0.4240, 0.9965]],\n",
      "\n",
      "        [[0.6878, 0.0386, 0.8376,  ..., 0.6406, 0.9884, 0.1253],\n",
      "         [0.2583, 0.4095, 0.0039,  ..., 0.3547, 0.5194, 0.5721],\n",
      "         [0.8174, 0.4816, 0.7404,  ..., 0.4036, 0.0538, 0.4937],\n",
      "         ...,\n",
      "         [0.0868, 0.6933, 0.1889,  ..., 0.9607, 0.9307, 0.4984],\n",
      "         [0.2926, 0.3977, 0.7615,  ..., 0.8880, 0.4614, 0.2770],\n",
      "         [0.7136, 0.9100, 0.6905,  ..., 0.2992, 0.3263, 0.6976]],\n",
      "\n",
      "        ...,\n",
      "\n",
      "        [[0.1711, 0.9946, 0.1129,  ..., 0.5394, 0.8875, 0.7018],\n",
      "         [0.8478, 0.7229, 0.8847,  ..., 0.7494, 0.3319, 0.7629],\n",
      "         [0.1328, 0.9033, 0.1560,  ..., 0.6842, 0.6789, 0.2267],\n",
      "         ...,\n",
      "         [0.6749, 0.4594, 0.3655,  ..., 0.9433, 0.8813, 0.3778],\n",
      "         [0.1821, 0.4779, 0.2485,  ..., 0.4772, 0.1208, 0.5880],\n",
      "         [0.3486, 0.7878, 0.3111,  ..., 0.0269, 0.9721, 0.4797]],\n",
      "\n",
      "        [[0.1788, 0.4689, 0.4837,  ..., 0.9212, 0.2383, 0.8043],\n",
      "         [0.6599, 0.4899, 0.5310,  ..., 0.1827, 0.1108, 0.0363],\n",
      "         [0.3190, 0.5851, 0.1263,  ..., 0.2134, 0.0520, 0.1035],\n",
      "         ...,\n",
      "         [0.5786, 0.9156, 0.3719,  ..., 0.3444, 0.2861, 0.0573],\n",
      "         [0.1803, 0.8923, 0.7704,  ..., 0.2860, 0.4371, 0.7357],\n",
      "         [0.2993, 0.9550, 0.3881,  ..., 0.8294, 0.0856, 0.2482]],\n",
      "\n",
      "        [[0.7714, 0.5170, 0.9007,  ..., 0.6372, 0.2658, 0.1967],\n",
      "         [0.8302, 0.7630, 0.1473,  ..., 0.5792, 0.8378, 0.3282],\n",
      "         [0.2771, 0.3349, 0.8639,  ..., 0.1973, 0.7349, 0.2223],\n",
      "         ...,\n",
      "         [0.6266, 0.5225, 0.4756,  ..., 0.5399, 0.0185, 0.9595],\n",
      "         [0.6042, 0.2356, 0.2902,  ..., 0.6658, 0.8876, 0.2724],\n",
      "         [0.6797, 0.0642, 0.5474,  ..., 0.4749, 0.8337, 0.1325]]])\n"
     ]
    }
   ],
   "execution_count": 76
  },
  {
   "metadata": {},
   "cell_type": "markdown",
   "source": "## Example of Broadcasting",
   "id": "dd427c21aa454cb0"
  },
  {
   "metadata": {
    "ExecuteTime": {
     "end_time": "2025-08-25T12:43:15.880474Z",
     "start_time": "2025-08-25T12:43:15.875849Z"
    }
   },
   "cell_type": "code",
   "source": [
    "x1 = torch.zeros((5,5))\n",
    "print(x1)\n",
    "x2 = torch.ones((1,5))\n",
    "print(x2)\n",
    "z = x1 - x2\n",
    "print(z)"
   ],
   "id": "3f3335b3c8f55633",
   "outputs": [
    {
     "name": "stdout",
     "output_type": "stream",
     "text": [
      "tensor([[0., 0., 0., 0., 0.],\n",
      "        [0., 0., 0., 0., 0.],\n",
      "        [0., 0., 0., 0., 0.],\n",
      "        [0., 0., 0., 0., 0.],\n",
      "        [0., 0., 0., 0., 0.]])\n",
      "tensor([[1., 1., 1., 1., 1.]])\n",
      "tensor([[-1., -1., -1., -1., -1.],\n",
      "        [-1., -1., -1., -1., -1.],\n",
      "        [-1., -1., -1., -1., -1.],\n",
      "        [-1., -1., -1., -1., -1.],\n",
      "        [-1., -1., -1., -1., -1.]])\n"
     ]
    }
   ],
   "execution_count": 81
  },
  {
   "metadata": {
    "ExecuteTime": {
     "end_time": "2025-08-25T12:48:42.015637Z",
     "start_time": "2025-08-25T12:48:42.004993Z"
    }
   },
   "cell_type": "code",
   "source": [
    "sum_x = torch.sum(x, dim = 0)\n",
    "print(sum_x)\n",
    "values, indices = torch.max(x, dim = 0)\n",
    "print(values, indices)\n",
    "abs_x = torch.abs(x)\n",
    "print(abs_x)\n",
    "z = torch.argmax(x, dim = 0)\n",
    "print(z)\n",
    "z = torch.argmin(x, dim = 0)\n",
    "print(z)\n",
    "mean_x = torch.mean(x.float(), dim = 0)\n",
    "print(mean_x)\n",
    "z = torch.eq(x,y) # check equal elements\n",
    "print(z)\n",
    "sorted_y, indices = torch.sort(y, dim = 0, descending = False)\n",
    "print(sorted_y, indices)\n",
    "\n",
    "z = torch.clamp(x, min = 0) # check values, if less than 0, then set to 0\n",
    "print(z)\n",
    "z = torch.clamp(x, max = 10) # check values, if greater than 10, then set to 10"
   ],
   "id": "3ae2102ab971e989",
   "outputs": [
    {
     "name": "stdout",
     "output_type": "stream",
     "text": [
      "tensor(6)\n",
      "tensor(3) tensor(2)\n",
      "tensor([1, 2, 3])\n",
      "tensor(2)\n",
      "tensor(0)\n",
      "tensor(2.)\n",
      "tensor([False, False, False])\n",
      "tensor([7, 8, 9]) tensor([2, 1, 0])\n",
      "tensor([1, 2, 3])\n"
     ]
    }
   ],
   "execution_count": 97
  },
  {
   "metadata": {
    "ExecuteTime": {
     "end_time": "2025-08-25T12:50:15.929324Z",
     "start_time": "2025-08-25T12:50:15.922208Z"
    }
   },
   "cell_type": "code",
   "source": [
    "x = torch.tensor([1,0,1,1,1], dtype = torch.bool)\n",
    "print(x)\n",
    "z = torch.any(x)\n",
    "print(z)\n",
    "z = torch.all(x)\n",
    "print(z)"
   ],
   "id": "2aa0e6f5f1710d08",
   "outputs": [
    {
     "name": "stdout",
     "output_type": "stream",
     "text": [
      "tensor([ True, False,  True,  True,  True])\n",
      "tensor(True)\n",
      "tensor(False)\n"
     ]
    }
   ],
   "execution_count": 100
  },
  {
   "metadata": {},
   "cell_type": "markdown",
   "source": "# Tensor Indexing",
   "id": "5a726959a8932f17"
  },
  {
   "metadata": {
    "ExecuteTime": {
     "end_time": "2025-08-25T12:51:55.807938Z",
     "start_time": "2025-08-25T12:51:55.802970Z"
    }
   },
   "cell_type": "code",
   "source": [
    "batch_size = 10\n",
    "features = 25\n",
    "x = torch.rand((batch_size, features))"
   ],
   "id": "4c7a2f69ae7d823b",
   "outputs": [],
   "execution_count": 102
  },
  {
   "metadata": {
    "ExecuteTime": {
     "end_time": "2025-08-25T12:53:19.101043Z",
     "start_time": "2025-08-25T12:53:19.093007Z"
    }
   },
   "cell_type": "code",
   "source": [
    "print(x[0]) # equal to x[0, :]\n",
    "print(x[0].shape)\n",
    "print(x[:,0])\n",
    "print(x[2, 0:10])"
   ],
   "id": "ee3a1092cabc195c",
   "outputs": [
    {
     "name": "stdout",
     "output_type": "stream",
     "text": [
      "tensor([0.5045, 0.7980, 0.5538, 0.5540, 0.7396, 0.2513, 0.0611, 0.1036, 0.0643,\n",
      "        0.2271, 0.4901, 0.5595, 0.4429, 0.5795, 0.1324, 0.5222, 0.9868, 0.5989,\n",
      "        0.5658, 0.4378, 0.0626, 0.3275, 0.5912, 0.7545, 0.1300])\n",
      "torch.Size([25])\n",
      "tensor([0.5045, 0.2490, 0.2900, 0.2584, 0.5073, 0.6994, 0.7863, 0.5568, 0.7735,\n",
      "        0.6262])\n",
      "tensor([0.2900, 0.9483, 0.0444, 0.5894, 0.8029, 0.8864, 0.9529, 0.7391, 0.7506,\n",
      "        0.3428])\n"
     ]
    }
   ],
   "execution_count": 107
  },
  {
   "metadata": {},
   "cell_type": "markdown",
   "source": "## Fancy Indexing",
   "id": "82e16e5ef586656a"
  },
  {
   "metadata": {
    "ExecuteTime": {
     "end_time": "2025-08-25T12:57:34.918121Z",
     "start_time": "2025-08-25T12:57:34.913360Z"
    }
   },
   "cell_type": "code",
   "source": [
    "x = torch.arange(10) # tensor([0,1,2,3,4,5,6,7,8,9])\n",
    "indices = [2,5,8]\n",
    "print(x[indices])"
   ],
   "id": "6c5cc6561f938362",
   "outputs": [
    {
     "name": "stdout",
     "output_type": "stream",
     "text": [
      "tensor([2, 5, 8])\n"
     ]
    }
   ],
   "execution_count": 109
  },
  {
   "metadata": {
    "ExecuteTime": {
     "end_time": "2025-08-25T13:00:00.077799Z",
     "start_time": "2025-08-25T13:00:00.070377Z"
    }
   },
   "cell_type": "code",
   "source": [
    "x = torch.rand((3,5))\n",
    "print(x)\n",
    "rows = torch.tensor([1,0])\n",
    "cols = torch.tensor([4,0])\n",
    "print(x[rows,cols]) # first take (1,4), then take (0,0)\n",
    "print(x[rows,cols].shape)\n"
   ],
   "id": "aea484022b897da9",
   "outputs": [
    {
     "name": "stdout",
     "output_type": "stream",
     "text": [
      "tensor([[0.0502, 0.5622, 0.3310, 0.4078, 0.0884],\n",
      "        [0.5121, 0.9768, 0.3402, 0.8912, 0.4334],\n",
      "        [0.0112, 0.6586, 0.8340, 0.2671, 0.5100]])\n",
      "tensor([0.4334, 0.0502])\n",
      "torch.Size([2])\n"
     ]
    }
   ],
   "execution_count": 111
  },
  {
   "metadata": {},
   "cell_type": "markdown",
   "source": "## More Advanced Indexing",
   "id": "fe6b8c4e4dfc7ede"
  },
  {
   "metadata": {
    "ExecuteTime": {
     "end_time": "2025-08-25T13:06:59.170383Z",
     "start_time": "2025-08-25T13:06:59.161540Z"
    }
   },
   "cell_type": "code",
   "source": [
    "x = torch.arange(10)\n",
    "print(x[(x<2)|(x>8)]) # or\n",
    "print(x[(x<2)&(x>8)]) # and\n",
    "print(x[x.remainder(2) == 0])\n",
    "print(torch.where(x>5, x, x*2))\n",
    "print(torch.tensor([0,0,1,2,2,3,4]).unique())\n",
    "print(x.ndimension())\n",
    "print(x.numel()) # number of elements"
   ],
   "id": "536cba79f5bd7afb",
   "outputs": [
    {
     "name": "stdout",
     "output_type": "stream",
     "text": [
      "tensor([0, 1, 9])\n",
      "tensor([], dtype=torch.int64)\n",
      "tensor([0, 2, 4, 6, 8])\n",
      "tensor([ 0,  2,  4,  6,  8, 10,  6,  7,  8,  9])\n",
      "tensor([0, 1, 2, 3, 4])\n",
      "1\n",
      "10\n"
     ]
    }
   ],
   "execution_count": 125
  },
  {
   "metadata": {},
   "cell_type": "markdown",
   "source": "# Tensor Reshaping",
   "id": "86139cc3f4f9395f"
  },
  {
   "metadata": {
    "ExecuteTime": {
     "end_time": "2025-08-25T13:08:14.621702Z",
     "start_time": "2025-08-25T13:08:14.618438Z"
    }
   },
   "cell_type": "code",
   "source": [
    "x = torch.arange(9)\n",
    "x_3x3 = x.view(3,3) # requires contiguous memory for origin tensor or may lead to error or weird result\n",
    "print(x_3x3)\n",
    "x_3x3 = x.reshape(3,3)  # works even if non-contiguous (may copy data to ensure reshape)\n",
    "print(x_3x3)\n"
   ],
   "id": "92add6aef1f1e570",
   "outputs": [
    {
     "name": "stdout",
     "output_type": "stream",
     "text": [
      "tensor([[0, 1, 2],\n",
      "        [3, 4, 5],\n",
      "        [6, 7, 8]])\n",
      "tensor([[0, 1, 2],\n",
      "        [3, 4, 5],\n",
      "        [6, 7, 8]])\n"
     ]
    }
   ],
   "execution_count": 128
  },
  {
   "metadata": {
    "ExecuteTime": {
     "end_time": "2025-08-25T13:12:08.115742Z",
     "start_time": "2025-08-25T13:12:08.109781Z"
    }
   },
   "cell_type": "code",
   "source": [
    "y = x_3x3.t()\n",
    "print(y)"
   ],
   "id": "6c9b1f10e48df77a",
   "outputs": [
    {
     "name": "stdout",
     "output_type": "stream",
     "text": [
      "tensor([[0, 3, 6],\n",
      "        [1, 4, 7],\n",
      "        [2, 5, 8]])\n"
     ]
    }
   ],
   "execution_count": 130
  },
  {
   "metadata": {
    "ExecuteTime": {
     "end_time": "2025-08-25T13:15:46.880218Z",
     "start_time": "2025-08-25T13:15:46.875822Z"
    }
   },
   "cell_type": "code",
   "source": [
    "x1 = torch.rand((2,5))\n",
    "x2 = torch.rand((2,5))\n",
    "print(torch.cat((x1,x2),dim=0))\n",
    "print(torch.cat((x1,x2),dim=1))"
   ],
   "id": "2854131e12f368a4",
   "outputs": [
    {
     "name": "stdout",
     "output_type": "stream",
     "text": [
      "tensor([[0.8305, 0.6043, 0.2036, 0.3169, 0.8887],\n",
      "        [0.7409, 0.1171, 0.8144, 0.1459, 0.2566],\n",
      "        [0.5619, 0.5990, 0.1177, 0.5488, 0.7997],\n",
      "        [0.2202, 0.2468, 0.5815, 0.8445, 0.8680]])\n",
      "tensor([[0.8305, 0.6043, 0.2036, 0.3169, 0.8887, 0.5619, 0.5990, 0.1177, 0.5488,\n",
      "         0.7997],\n",
      "        [0.7409, 0.1171, 0.8144, 0.1459, 0.2566, 0.2202, 0.2468, 0.5815, 0.8445,\n",
      "         0.8680]])\n"
     ]
    }
   ],
   "execution_count": 135
  },
  {
   "metadata": {
    "ExecuteTime": {
     "end_time": "2025-08-25T13:16:33.720405Z",
     "start_time": "2025-08-25T13:16:33.716343Z"
    }
   },
   "cell_type": "code",
   "source": "print(x1.view(-1)) # flatten",
   "id": "499425798a7e7be8",
   "outputs": [
    {
     "name": "stdout",
     "output_type": "stream",
     "text": [
      "tensor([0.8305, 0.6043, 0.2036, 0.3169, 0.8887, 0.7409, 0.1171, 0.8144, 0.1459,\n",
      "        0.2566])\n"
     ]
    }
   ],
   "execution_count": 138
  },
  {
   "metadata": {
    "ExecuteTime": {
     "end_time": "2025-08-25T13:17:01.576980Z",
     "start_time": "2025-08-25T13:17:01.573981Z"
    }
   },
   "cell_type": "code",
   "source": [
    "batch = 64\n",
    "x = torch.rand((batch,2,5))\n",
    "z = x.view(batch, -1)\n",
    "print(z.shape)"
   ],
   "id": "94ada068bad72c1b",
   "outputs": [
    {
     "name": "stdout",
     "output_type": "stream",
     "text": [
      "torch.Size([64, 10])\n"
     ]
    }
   ],
   "execution_count": 139
  },
  {
   "metadata": {
    "ExecuteTime": {
     "end_time": "2025-08-25T13:18:19.025236Z",
     "start_time": "2025-08-25T13:18:19.019906Z"
    }
   },
   "cell_type": "code",
   "source": [
    "z = x.permute(0,2,1)\n",
    "print(z.shape)"
   ],
   "id": "cbdfa95e0bc4f6f3",
   "outputs": [
    {
     "name": "stdout",
     "output_type": "stream",
     "text": [
      "torch.Size([64, 5, 2])\n"
     ]
    }
   ],
   "execution_count": 141
  },
  {
   "metadata": {
    "ExecuteTime": {
     "end_time": "2025-08-25T13:20:23.664275Z",
     "start_time": "2025-08-25T13:20:23.655373Z"
    }
   },
   "cell_type": "code",
   "source": [
    "x = torch.arange(10)\n",
    "print(x)\n",
    "print(x.unsqueeze(0))\n",
    "print(x.unsqueeze(1))\n",
    "print(x.unsqueeze(0).shape)\n",
    "print(x.unsqueeze(1).shape)\n",
    "print(torch.arange(10).unsqueeze(0).unsqueeze(1)) # 1 * 1 * 10"
   ],
   "id": "a768887c1cf4d3cc",
   "outputs": [
    {
     "name": "stdout",
     "output_type": "stream",
     "text": [
      "tensor([0, 1, 2, 3, 4, 5, 6, 7, 8, 9])\n",
      "tensor([[0, 1, 2, 3, 4, 5, 6, 7, 8, 9]])\n",
      "tensor([[0],\n",
      "        [1],\n",
      "        [2],\n",
      "        [3],\n",
      "        [4],\n",
      "        [5],\n",
      "        [6],\n",
      "        [7],\n",
      "        [8],\n",
      "        [9]])\n",
      "torch.Size([1, 10])\n",
      "torch.Size([10, 1])\n",
      "tensor([[[0, 1, 2, 3, 4, 5, 6, 7, 8, 9]]])\n"
     ]
    }
   ],
   "execution_count": 147
  },
  {
   "metadata": {
    "ExecuteTime": {
     "end_time": "2025-08-25T13:24:45.290471Z",
     "start_time": "2025-08-25T13:24:45.283173Z"
    }
   },
   "cell_type": "code",
   "source": [
    "x = torch.arange(10).unsqueeze(0).unsqueeze(1)\n",
    "print(x)\n",
    "z = x.squeeze(1)\n",
    "print(z)\n",
    "z = z.squeeze(0)\n",
    "print(z)"
   ],
   "id": "9317c218bd39c44f",
   "outputs": [
    {
     "name": "stdout",
     "output_type": "stream",
     "text": [
      "tensor([[[0, 1, 2, 3, 4, 5, 6, 7, 8, 9]]])\n",
      "tensor([[0, 1, 2, 3, 4, 5, 6, 7, 8, 9]])\n",
      "tensor([0, 1, 2, 3, 4, 5, 6, 7, 8, 9])\n"
     ]
    }
   ],
   "execution_count": 151
  },
  {
   "metadata": {},
   "cell_type": "code",
   "outputs": [],
   "execution_count": null,
   "source": "",
   "id": "9a4c8cf297a43db3"
  }
 ],
 "metadata": {
  "kernelspec": {
   "display_name": "base",
   "language": "python",
   "name": "python3"
  },
  "language_info": {
   "codemirror_mode": {
    "name": "ipython",
    "version": 3
   },
   "file_extension": ".py",
   "mimetype": "text/x-python",
   "name": "python",
   "nbconvert_exporter": "python",
   "pygments_lexer": "ipython3",
   "version": "3.12.3"
  }
 },
 "nbformat": 4,
 "nbformat_minor": 5
}
