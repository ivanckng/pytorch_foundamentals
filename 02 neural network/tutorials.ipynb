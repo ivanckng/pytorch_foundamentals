{
 "cells": [
  {
   "cell_type": "markdown",
   "id": "77b5d6ea",
   "metadata": {},
   "source": [
    "# Neural Network"
   ]
  },
  {
   "cell_type": "markdown",
   "id": "2905c9bb",
   "metadata": {},
   "source": [
    "**Typical Training Procedure for A Neural Network**  \n",
    "1. define the neural network that has some learnable parameters (or weights)\n",
    "2. iterate over a dataset of inputs\n",
    "3. process input through the network\n",
    "4. compute the loss (how far is the output from being correct)\n",
    "5. propagare the gradients back into the network's parameters\n",
    "6. updates the weights of the network, typically using a simple update rule:\n",
    "$$weight = weight - learning_rate * gradient$$"
   ]
  },
  {
   "cell_type": "code",
   "id": "f97ecf3d",
   "metadata": {
    "ExecuteTime": {
     "end_time": "2025-08-27T12:40:10.679728Z",
     "start_time": "2025-08-27T12:40:10.673155Z"
    }
   },
   "source": [
    "import torch\n",
    "import torch.nn as nn\n",
    "import torch.nn.functional as F"
   ],
   "outputs": [],
   "execution_count": 39
  },
  {
   "cell_type": "code",
   "id": "d974cbcb",
   "metadata": {
    "ExecuteTime": {
     "end_time": "2025-08-27T12:40:12.926815Z",
     "start_time": "2025-08-27T12:40:12.914886Z"
    }
   },
   "source": [
    "class Net(nn.Module):\n",
    "    def __init__(self):\n",
    "        super(Net, self).__init__()\n",
    "        # 1 input image channel, 6 output channels, 5 x 5 square convolution\n",
    "        # kernel\n",
    "        self.conv1 = nn.Conv2d(1, 6, 5)\n",
    "        self.conv2 = nn.Conv2d(6, 16, 5)\n",
    "        # an affine operation: y = wx + b\n",
    "        self.fc1 = nn.Linear(16*5 * 5, 120)\n",
    "        self.fc2 = nn.Linear(120,84)\n",
    "        self.fc3 = nn.Linear(84,10)\n",
    "    def forward(self, input): # Note: expected input size is 32 x 32\n",
    "        # convolution layer C1: input 1 input image channel, 6 output channels\n",
    "        # kernel size 5x5\n",
    "        # use ReLU as activation function\n",
    "        # outputs a Tensor with (N, 6, 28, 28)\n",
    "        c1 = F.relu(self.conv1(input))\n",
    "        # subsampling layer S2: 2x2 grid\n",
    "        s2 = F.max_pool2d(c1, (2,2))\n",
    "        # convolution layer C3: 6 input channels, 16 output channels, 5x5 kernel\n",
    "        c3 = F.relu(self.conv2(s2))\n",
    "        # subsampling layer s4: 2x2 grid\n",
    "        s4 = F.max_pool2d(c3, (2,2))\n",
    "        # flatten operation\n",
    "        s4 = torch.flatten(s4,1)\n",
    "        # fully connected layer F5: 16*5*5 inputs, 120 outputs\n",
    "        f5 = F.relu(self.fc1(s4))\n",
    "        # fully connected layer F6: 120 inputs, 84 outputs\n",
    "        f6 = F.relu(self.fc2(f5))\n",
    "        # fully connected layer F7: 84 inputs, 10 outputs\n",
    "        output = self.fc3(f6)\n",
    "        return output\n",
    "\n",
    "net = Net()\n",
    "print(net)"
   ],
   "outputs": [
    {
     "name": "stdout",
     "output_type": "stream",
     "text": [
      "Net(\n",
      "  (conv1): Conv2d(1, 6, kernel_size=(5, 5), stride=(1, 1))\n",
      "  (conv2): Conv2d(6, 16, kernel_size=(5, 5), stride=(1, 1))\n",
      "  (fc1): Linear(in_features=400, out_features=120, bias=True)\n",
      "  (fc2): Linear(in_features=120, out_features=84, bias=True)\n",
      "  (fc3): Linear(in_features=84, out_features=10, bias=True)\n",
      ")\n"
     ]
    }
   ],
   "execution_count": 40
  },
  {
   "metadata": {
    "ExecuteTime": {
     "end_time": "2025-08-27T12:41:28.114325Z",
     "start_time": "2025-08-27T12:41:28.107714Z"
    }
   },
   "cell_type": "code",
   "source": [
    "# set to cuda\n",
    "device = torch.device('cuda:0' if torch.cuda.is_available() else 'cpu')"
   ],
   "id": "9cdb0070a8269fd",
   "outputs": [],
   "execution_count": 42
  },
  {
   "cell_type": "code",
   "id": "bdaf66e1",
   "metadata": {
    "ExecuteTime": {
     "end_time": "2025-08-27T12:41:33.301700Z",
     "start_time": "2025-08-27T12:41:33.293938Z"
    }
   },
   "source": [
    "net.to(device)\n",
    "params = list(net.parameters())\n",
    "print(len(params))\n",
    "print(params[0].size())"
   ],
   "outputs": [
    {
     "name": "stdout",
     "output_type": "stream",
     "text": [
      "10\n",
      "torch.Size([6, 1, 5, 5])\n"
     ]
    }
   ],
   "execution_count": 43
  },
  {
   "cell_type": "code",
   "id": "60e38fcb",
   "metadata": {
    "ExecuteTime": {
     "end_time": "2025-08-27T12:42:11.080254Z",
     "start_time": "2025-08-27T12:42:11.071153Z"
    }
   },
   "source": [
    "# try a random 32 x 32 input\n",
    "input = torch.randn(1,1,32,32)\n",
    "input = input.to(device)\n",
    "output = net(input)\n",
    "print(output)\n",
    "# backward pass\n",
    "net.zero_grad()\n",
    "back = torch.randn(1,10)\n",
    "back = back.to(device)\n",
    "output.backward(back) # simulate a loss to backpropagate"
   ],
   "outputs": [
    {
     "name": "stdout",
     "output_type": "stream",
     "text": [
      "tensor([[-0.0274, -0.0684, -0.0260, -0.0110, -0.1401, -0.0226,  0.0473, -0.1444,\n",
      "         -0.0631,  0.0341]], device='cuda:0', grad_fn=<AddmmBackward0>)\n"
     ]
    }
   ],
   "execution_count": 45
  },
  {
   "cell_type": "markdown",
   "id": "b31bfed8",
   "metadata": {},
   "source": [
    "## Loss Function"
   ]
  },
  {
   "cell_type": "markdown",
   "id": "a8de434b",
   "metadata": {},
   "source": [
    "A loss function takes the (output, target) pair of inputs, and computes a value that estimate how far away the output is from the target.  \n",
    "There are several different loss functions under the ```nn``` package. A simple loss function is ```nn.MSELoss``` which computes the mean squared error between the output and the target."
   ]
  },
  {
   "cell_type": "code",
   "id": "0bc51dac",
   "metadata": {
    "ExecuteTime": {
     "end_time": "2025-08-27T12:42:22.495532Z",
     "start_time": "2025-08-27T12:42:22.477775Z"
    }
   },
   "source": [
    "output = net(input)\n",
    "target = torch.randn(10)\n",
    "target = target.to(device)\n",
    "print(target)\n",
    "target = target.view(1,-1) # make it the same shape as output\n",
    "print(target)\n",
    "criterion = nn.MSELoss()\n",
    "loss = criterion(output, target)\n",
    "print(loss)"
   ],
   "outputs": [
    {
     "name": "stdout",
     "output_type": "stream",
     "text": [
      "tensor([ 1.9283, -0.7047, -0.5256, -1.0406,  0.8033, -1.5231, -0.0463, -1.2719,\n",
      "         1.1819, -0.7484], device='cuda:0')\n",
      "tensor([[ 1.9283, -0.7047, -0.5256, -1.0406,  0.8033, -1.5231, -0.0463, -1.2719,\n",
      "          1.1819, -0.7484]], device='cuda:0')\n",
      "tensor(1.2123, device='cuda:0', grad_fn=<MseLossBackward0>)\n"
     ]
    }
   ],
   "execution_count": 46
  },
  {
   "cell_type": "code",
   "id": "7d42de9d",
   "metadata": {
    "ExecuteTime": {
     "end_time": "2025-08-27T12:42:23.960301Z",
     "start_time": "2025-08-27T12:42:23.952975Z"
    }
   },
   "source": [
    "# manually backpropagate example\n",
    "print(loss.grad_fn) #MSELoss\n",
    "print(loss.grad_fn.next_functions[0][0]) #Linear\n",
    "print(loss.grad_fn.next_functions[0][0].next_functions[0][0]) #ReLU"
   ],
   "outputs": [
    {
     "name": "stdout",
     "output_type": "stream",
     "text": [
      "<MseLossBackward0 object at 0x0000017006E39C60>\n",
      "<AddmmBackward0 object at 0x0000017001B668F0>\n",
      "<AccumulateGrad object at 0x0000017006E39C60>\n"
     ]
    }
   ],
   "execution_count": 47
  },
  {
   "cell_type": "code",
   "id": "e70762d5",
   "metadata": {
    "ExecuteTime": {
     "end_time": "2025-08-27T12:42:25.947594Z",
     "start_time": "2025-08-27T12:42:25.941105Z"
    }
   },
   "source": [
    "## Auto Backpropagate\n",
    "net.zero_grad()\n",
    "print('conv1.bias.grad before backward')\n",
    "print(net.conv1.bias.grad)\n",
    "loss.backward()\n",
    "print('conv1.bias.grad after backward')\n",
    "print(net.conv1.bias.grad)"
   ],
   "outputs": [
    {
     "name": "stdout",
     "output_type": "stream",
     "text": [
      "conv1.bias.grad before backward\n",
      "None\n",
      "conv1.bias.grad after backward\n",
      "tensor([-0.0003, -0.0041, -0.0114,  0.0175,  0.0063,  0.0035], device='cuda:0')\n"
     ]
    }
   ],
   "execution_count": 48
  },
  {
   "cell_type": "markdown",
   "id": "60d15a8e",
   "metadata": {},
   "source": [
    "## Update the weights"
   ]
  },
  {
   "cell_type": "markdown",
   "id": "97748fa3",
   "metadata": {},
   "source": [
    "$weight = weight - learning\\space rate \\times gradient$"
   ]
  },
  {
   "cell_type": "code",
   "id": "46914627",
   "metadata": {
    "ExecuteTime": {
     "end_time": "2025-08-27T12:42:29.524373Z",
     "start_time": "2025-08-27T12:42:29.515985Z"
    }
   },
   "source": [
    "## manually update the weights\n",
    "learning_rate = 0.01\n",
    "for param in net.parameters():\n",
    "    param.data.sub_(learning_rate * param.grad.data)\n"
   ],
   "outputs": [],
   "execution_count": 49
  },
  {
   "cell_type": "code",
   "id": "ff421315",
   "metadata": {
    "ExecuteTime": {
     "end_time": "2025-08-27T12:42:35.755568Z",
     "start_time": "2025-08-27T12:42:35.744294Z"
    }
   },
   "source": [
    "## automatically update the weights by more approaches\n",
    "import torch.optim as optim\n",
    "optimizer = optim.SGD(net.parameters(), lr = 0.01)\n",
    "\n",
    "optimizer.zero_grad()\n",
    "output = net(input)\n",
    "loss = criterion(output, target)\n",
    "loss.backward()\n",
    "optimizer.step() # update the weights"
   ],
   "outputs": [],
   "execution_count": 50
  },
  {
   "cell_type": "markdown",
   "id": "5bc12763",
   "metadata": {},
   "source": [
    "# Trainig a classifier"
   ]
  },
  {
   "cell_type": "markdown",
   "id": "3753cab1",
   "metadata": {},
   "source": [
    "In A 60 minute Blitz, we will use the CIFAR10 dataset. It has classes: \"airplane\", \"automobile\", \"bird\", \"cat\", \"deer\", \"dog\", \"frog\", \"horse\", \"ship\" and \"truck\". The images in CIFAR-10 are of size 3 x 32 x 32 (3 channel color images of 32 x 32 pixels in size."
   ]
  },
  {
   "cell_type": "markdown",
   "id": "17334cf8",
   "metadata": {},
   "source": [
    "Steps to training an image classifer\n",
    "1. load and normalise the CIFAR-10 training and test datasets using torchvision\n",
    "2. define a convolutional neural network\n",
    "3. define a loss function\n",
    "4. train the network on the training data\n",
    "5. test the network on the test data"
   ]
  },
  {
   "cell_type": "code",
   "id": "9d039fe0",
   "metadata": {
    "ExecuteTime": {
     "end_time": "2025-08-27T12:42:42.246101Z",
     "start_time": "2025-08-27T12:42:41.129564Z"
    }
   },
   "source": [
    "# load and normalise the CIFAR-10\n",
    "import torch\n",
    "import torchvision\n",
    "import torchvision.transforms as transforms\n",
    "transform = transforms.Compose([transforms.ToTensor(),\n",
    "                                transforms.Normalize((0.5, 0.5, 0.5), (0.5, 0.5, 0.5))])\n",
    "batch_size = 4\n",
    "trainset = torchvision.datasets.CIFAR10(root = \"./data\", train = True, download = True, transform = transform)\n",
    "trainloader = torch.utils.data.DataLoader(trainset, batch_size = batch_size, shuffle = True, num_workers = 2)\n",
    "testset = torchvision.datasets.CIFAR10(root = \"./data\", train = False, download = True, transform = transform)\n",
    "testloader = torch.utils.data.DataLoader(testset, batch_size = batch_size, shuffle = False, num_workers = 2)\n",
    "\n",
    "classes = ('plane', 'car', 'bird', 'cat', 'deer', 'dog', 'frog', 'horse', 'ship', 'truck')"
   ],
   "outputs": [],
   "execution_count": 51
  },
  {
   "cell_type": "code",
   "id": "c2834a55",
   "metadata": {
    "ExecuteTime": {
     "end_time": "2025-08-27T12:42:45.417452Z",
     "start_time": "2025-08-27T12:42:44.695592Z"
    }
   },
   "source": [
    "pip install matplotlib"
   ],
   "outputs": [
    {
     "name": "stdout",
     "output_type": "stream",
     "text": [
      "Requirement already satisfied: matplotlib in d:\\github\\pytorch_foundamentals\\.venv\\lib\\site-packages (3.10.5)\n",
      "Requirement already satisfied: contourpy>=1.0.1 in d:\\github\\pytorch_foundamentals\\.venv\\lib\\site-packages (from matplotlib) (1.3.3)\n",
      "Requirement already satisfied: cycler>=0.10 in d:\\github\\pytorch_foundamentals\\.venv\\lib\\site-packages (from matplotlib) (0.12.1)\n",
      "Requirement already satisfied: fonttools>=4.22.0 in d:\\github\\pytorch_foundamentals\\.venv\\lib\\site-packages (from matplotlib) (4.59.1)\n",
      "Requirement already satisfied: kiwisolver>=1.3.1 in d:\\github\\pytorch_foundamentals\\.venv\\lib\\site-packages (from matplotlib) (1.4.9)\n",
      "Requirement already satisfied: numpy>=1.23 in d:\\github\\pytorch_foundamentals\\.venv\\lib\\site-packages (from matplotlib) (2.3.2)\n",
      "Requirement already satisfied: packaging>=20.0 in d:\\github\\pytorch_foundamentals\\.venv\\lib\\site-packages (from matplotlib) (25.0)\n",
      "Requirement already satisfied: pillow>=8 in d:\\github\\pytorch_foundamentals\\.venv\\lib\\site-packages (from matplotlib) (11.3.0)\n",
      "Requirement already satisfied: pyparsing>=2.3.1 in d:\\github\\pytorch_foundamentals\\.venv\\lib\\site-packages (from matplotlib) (3.2.3)\n",
      "Requirement already satisfied: python-dateutil>=2.7 in d:\\github\\pytorch_foundamentals\\.venv\\lib\\site-packages (from matplotlib) (2.9.0.post0)\n",
      "Requirement already satisfied: six>=1.5 in d:\\github\\pytorch_foundamentals\\.venv\\lib\\site-packages (from python-dateutil>=2.7->matplotlib) (1.17.0)\n",
      "Note: you may need to restart the kernel to use updated packages.\n"
     ]
    },
    {
     "name": "stderr",
     "output_type": "stream",
     "text": [
      "\n",
      "[notice] A new release of pip is available: 25.1.1 -> 25.2\n",
      "[notice] To update, run: python.exe -m pip install --upgrade pip\n"
     ]
    }
   ],
   "execution_count": 52
  },
  {
   "cell_type": "code",
   "id": "a0f1b0b5",
   "metadata": {
    "ExecuteTime": {
     "end_time": "2025-08-27T12:42:53.850738Z",
     "start_time": "2025-08-27T12:42:48.422478Z"
    }
   },
   "source": [
    "import matplotlib.pyplot as plt\n",
    "import numpy as np\n",
    "\n",
    "def imshow(img):\n",
    "    img = img / 2 + 0.5\n",
    "    npimg = img.numpy()\n",
    "    plt.imshow(np.transpose(npimg, (1,2,0)))\n",
    "    plt.show()\n",
    "dataiter = iter(trainloader)\n",
    "images, labels = next(dataiter)\n",
    "\n",
    "imshow(torchvision.utils.make_grid(images))\n",
    "print(' '.join(f'{classes[labels[j]]:5s}' for j in range(batch_size)))"
   ],
   "outputs": [
    {
     "data": {
      "text/plain": [
       "<Figure size 640x480 with 1 Axes>"
      ],
      "image/png": "[encoded data removed]"
     },
     "metadata": {},
     "output_type": "display_data"
    },
    {
     "name": "stdout",
     "output_type": "stream",
     "text": [
      "horse truck plane frog \n"
     ]
    }
   ],
   "execution_count": 53
  },
  {
   "cell_type": "markdown",
   "id": "219cfd2c",
   "metadata": {},
   "source": [
    "### Define a convolutional neural network"
   ]
  },
  {
   "cell_type": "code",
   "id": "2f62fb5e",
   "metadata": {
    "ExecuteTime": {
     "end_time": "2025-08-27T12:43:04.629653Z",
     "start_time": "2025-08-27T12:43:04.614227Z"
    }
   },
   "source": [
    "import torch.nn as nn\n",
    "import torch.nn.functional as F\n",
    "\n",
    "class Net(nn.Module):\n",
    "    def __init__(self):\n",
    "        super().__init__()\n",
    "        self.conv1 = nn.Conv2d(3, 6, 5)\n",
    "        self.pool = nn.MaxPool2d(2, 2)\n",
    "        self.conv2 = nn.Conv2d(6, 16, 5)\n",
    "        self.fc1 = nn.Linear(16 * 5 * 5, 120)\n",
    "        self.fc2 = nn.Linear(120, 84)\n",
    "        self.fc3 = nn.Linear(84, 10)\n",
    "    def forward(self, x):\n",
    "        x =self.pool(F.relu(self.conv1(x)))\n",
    "        x = self.pool(F.relu(self.conv2(x)))\n",
    "        x = torch.flatten(x, 1)\n",
    "        x = F.relu(self.fc1(x))\n",
    "        x = F.relu(self.fc2(x))\n",
    "        x = self.fc3(x)\n",
    "        return x\n",
    "net = Net()\n",
    "net.to(device)"
   ],
   "outputs": [
    {
     "data": {
      "text/plain": [
       "Net(\n",
       "  (conv1): Conv2d(3, 6, kernel_size=(5, 5), stride=(1, 1))\n",
       "  (pool): MaxPool2d(kernel_size=2, stride=2, padding=0, dilation=1, ceil_mode=False)\n",
       "  (conv2): Conv2d(6, 16, kernel_size=(5, 5), stride=(1, 1))\n",
       "  (fc1): Linear(in_features=400, out_features=120, bias=True)\n",
       "  (fc2): Linear(in_features=120, out_features=84, bias=True)\n",
       "  (fc3): Linear(in_features=84, out_features=10, bias=True)\n",
       ")"
      ]
     },
     "execution_count": 54,
     "metadata": {},
     "output_type": "execute_result"
    }
   ],
   "execution_count": 54
  },
  {
   "cell_type": "markdown",
   "id": "444b5869",
   "metadata": {},
   "source": [
    "### Define a loss function and optimiser"
   ]
  },
  {
   "cell_type": "code",
   "id": "df67c4e6",
   "metadata": {
    "ExecuteTime": {
     "end_time": "2025-08-27T12:43:06.925573Z",
     "start_time": "2025-08-27T12:43:06.918953Z"
    }
   },
   "source": [
    "import torch.optim as optim\n",
    "criterion = nn.CrossEntropyLoss()\n",
    "optimizer = optim.SGD(net.parameters(), lr = 0.001, momentum = 0.9) # momentum = 0.9\n",
    "# updates keep moving strongly in the same direction as before, unless the new gradient really disagrees"
   ],
   "outputs": [],
   "execution_count": 55
  },
  {
   "cell_type": "markdown",
   "id": "6d6f1f76",
   "metadata": {},
   "source": [
    "### Train the Network"
   ]
  },
  {
   "cell_type": "code",
   "id": "c6940748",
   "metadata": {
    "ExecuteTime": {
     "end_time": "2025-08-27T12:46:53.024566Z",
     "start_time": "2025-08-27T12:43:17.886677Z"
    }
   },
   "source": [
    "for epoch in range(5):\n",
    "    running_loss = 0.0\n",
    "    for i, data in enumerate(trainloader, 0):\n",
    "        inputs, labels = data\n",
    "        inputs, labels = inputs.to(device), labels.to(device)\n",
    "        optimizer.zero_grad()\n",
    "        outputs = net(inputs)\n",
    "        loss = criterion(outputs,labels)\n",
    "        loss.backward()\n",
    "        optimizer.step()\n",
    "\n",
    "        running_loss += loss.item()\n",
    "        if i % 2000 == 1999:\n",
    "            print(f\"[{epoch + 1}, {i + 1 :5d}] loss: {running_loss/2000:.3f}\")\n",
    "            running_loss = 0.00\n",
    "print(\"Finished Training\")"
   ],
   "outputs": [
    {
     "name": "stdout",
     "output_type": "stream",
     "text": [
      "[1,  2000] loss: 2.189\n",
      "[1,  4000] loss: 1.832\n",
      "[1,  6000] loss: 1.672\n",
      "[1,  8000] loss: 1.585\n",
      "[1, 10000] loss: 1.501\n",
      "[1, 12000] loss: 1.447\n",
      "[2,  2000] loss: 1.371\n",
      "[2,  4000] loss: 1.352\n",
      "[2,  6000] loss: 1.344\n",
      "[2,  8000] loss: 1.306\n",
      "[2, 10000] loss: 1.290\n",
      "[2, 12000] loss: 1.268\n",
      "[3,  2000] loss: 1.200\n",
      "[3,  4000] loss: 1.217\n",
      "[3,  6000] loss: 1.184\n",
      "[3,  8000] loss: 1.184\n",
      "[3, 10000] loss: 1.171\n",
      "[3, 12000] loss: 1.162\n",
      "[4,  2000] loss: 1.088\n",
      "[4,  4000] loss: 1.096\n",
      "[4,  6000] loss: 1.109\n",
      "[4,  8000] loss: 1.107\n",
      "[4, 10000] loss: 1.099\n",
      "[4, 12000] loss: 1.091\n",
      "[5,  2000] loss: 0.998\n",
      "[5,  4000] loss: 1.036\n",
      "[5,  6000] loss: 1.022\n",
      "[5,  8000] loss: 1.033\n",
      "[5, 10000] loss: 1.027\n",
      "[5, 12000] loss: 1.046\n",
      "Finished Training\n"
     ]
    }
   ],
   "execution_count": 56
  },
  {
   "cell_type": "markdown",
   "id": "c0d4d677",
   "metadata": {},
   "source": [
    "### Test the model on test data"
   ]
  },
  {
   "cell_type": "code",
   "id": "98d7a97e",
   "metadata": {
    "ExecuteTime": {
     "end_time": "2025-08-27T12:47:14.282411Z",
     "start_time": "2025-08-27T12:47:09.069401Z"
    }
   },
   "source": [
    "dataiter = iter(testloader)\n",
    "images, labels = next(dataiter) # take the first batch of test images\n",
    "imshow(torchvision.utils.make_grid(images))\n",
    "print(\"GroundTruth: \", ' '.join(f'{classes[labels[j]]:5s}' for j in range(4)))"
   ],
   "outputs": [
    {
     "data": {
      "text/plain": [
       "<Figure size 640x480 with 1 Axes>"
      ],
      "image/png": "[encoded data removed]"
     },
     "metadata": {},
     "output_type": "display_data"
    },
    {
     "name": "stdout",
     "output_type": "stream",
     "text": [
      "GroundTruth:  cat   ship  ship  plane\n"
     ]
    }
   ],
   "execution_count": 57
  },
  {
   "cell_type": "markdown",
   "id": "ad3a9c8f",
   "metadata": {},
   "source": [
    "### Save the model"
   ]
  },
  {
   "cell_type": "code",
   "id": "3bac21e3",
   "metadata": {
    "ExecuteTime": {
     "end_time": "2025-08-27T12:47:16.720508Z",
     "start_time": "2025-08-27T12:47:16.715133Z"
    }
   },
   "source": [
    "PATH = './cifar_net.pth'\n",
    "torch.save(net.state_dict(), PATH)"
   ],
   "outputs": [],
   "execution_count": 58
  },
  {
   "cell_type": "markdown",
   "id": "0556214a",
   "metadata": {},
   "source": [
    "### Reload the model if necessary"
   ]
  },
  {
   "cell_type": "code",
   "id": "4a96e870",
   "metadata": {
    "ExecuteTime": {
     "end_time": "2025-08-27T12:47:26.591534Z",
     "start_time": "2025-08-27T12:47:26.580155Z"
    }
   },
   "source": [
    "net = Net()\n",
    "net.to(device)\n",
    "net.load_state_dict(torch.load(PATH, weights_only = True))"
   ],
   "outputs": [
    {
     "data": {
      "text/plain": [
       "<All keys matched successfully>"
      ]
     },
     "execution_count": 59,
     "metadata": {},
     "output_type": "execute_result"
    }
   ],
   "execution_count": 59
  },
  {
   "cell_type": "code",
   "id": "2d0e72c1",
   "metadata": {
    "ExecuteTime": {
     "end_time": "2025-08-27T12:47:48.038606Z",
     "start_time": "2025-08-27T12:47:48.029865Z"
    }
   },
   "source": [
    "## see how the network performs on the images we selected\n",
    "images = images.to(device)\n",
    "outputs = net(images)\n",
    "_, predicted = torch.max(outputs, 1) # 1 means find the max value across the 10 prediction scores\n",
    "print('Predicted: ', ' '.join(f'{classes[predicted[j]]:5s}' for j in range(4)))"
   ],
   "outputs": [
    {
     "name": "stdout",
     "output_type": "stream",
     "text": [
      "Predicted:  cat   plane truck plane\n"
     ]
    }
   ],
   "execution_count": 61
  },
  {
   "cell_type": "code",
   "id": "8fb13a89",
   "metadata": {
    "ExecuteTime": {
     "end_time": "2025-08-27T12:48:07.945136Z",
     "start_time": "2025-08-27T12:48:01.914086Z"
    }
   },
   "source": [
    "## check accuracy of the whole dataset\n",
    "correct = 0\n",
    "total = 0\n",
    "with torch.no_grad():\n",
    "    for data in testloader:\n",
    "        images, labels = data\n",
    "        images, labels = images.to(device), labels.to(device)\n",
    "        outputs = net(images)\n",
    "        _, predicted = torch.max(outputs, 1)\n",
    "        total += labels.size(0)\n",
    "        correct += (predicted == labels).sum().item()\n",
    "\n",
    "print(f\"Accuracy of the network on the 10000 test images: {100 * correct//total} %\")"
   ],
   "outputs": [
    {
     "name": "stdout",
     "output_type": "stream",
     "text": [
      "Accuracy of the network on the 10000 test images: 59 %\n"
     ]
    }
   ],
   "execution_count": 62
  },
  {
   "cell_type": "code",
   "id": "f195cb8a",
   "metadata": {
    "ExecuteTime": {
     "end_time": "2025-08-27T12:48:17.755345Z",
     "start_time": "2025-08-27T12:48:10.537697Z"
    }
   },
   "source": [
    "# check accuracy for each class\n",
    "correct_pred = {classname: 0 for classname in classes}\n",
    "total_pred = {classname: 0 for classname in classes}\n",
    "\n",
    "with torch.no_grad():\n",
    "    for data in testloader:\n",
    "        images, labels = data\n",
    "        images, labels = images.to(device), labels.to(device)\n",
    "        outputs = net(images)\n",
    "        _, predictions = torch.max(outputs, 1)\n",
    "        for label, prediction in zip(labels, predictions):\n",
    "            if label == prediction:\n",
    "                correct_pred[classes[label]] += 1\n",
    "            total_pred[classes[label]] += 1\n",
    "\n",
    "for classname, correct_count in correct_pred.items():\n",
    "    accuracy = 100 * float(correct_count)/total_pred[classname]\n",
    "    print(f\"Accuracy for class: {classname:5s} is {accuracy:.1f} %\")"
   ],
   "outputs": [
    {
     "name": "stdout",
     "output_type": "stream",
     "text": [
      "Accuracy for class: plane is 69.9 %\n",
      "Accuracy for class: car   is 53.6 %\n",
      "Accuracy for class: bird  is 61.7 %\n",
      "Accuracy for class: cat   is 34.5 %\n",
      "Accuracy for class: deer  is 40.7 %\n",
      "Accuracy for class: dog   is 48.4 %\n",
      "Accuracy for class: frog  is 70.8 %\n",
      "Accuracy for class: horse is 67.2 %\n",
      "Accuracy for class: ship  is 71.6 %\n",
      "Accuracy for class: truck is 73.6 %\n"
     ]
    }
   ],
   "execution_count": 63
  },
  {
   "cell_type": "markdown",
   "id": "ac321df6",
   "metadata": {},
   "source": [
    "### Hyperparameter Tuning"
   ]
  },
  {
   "cell_type": "markdown",
   "id": "f1451803",
   "metadata": {},
   "source": [
    "#### Learning Rate"
   ]
  },
  {
   "cell_type": "markdown",
   "id": "7f7ad268",
   "metadata": {},
   "source": [
    "If we do grid search, it is very time-consuming. Hence, it is better to focus on a narrower range and then we apply grid/random search. To do so, we can conduct learning rate range test first to see how the loss changes with the change of learning rate."
   ]
  },
  {
   "cell_type": "code",
   "id": "2a8f0fe3",
   "metadata": {
    "ExecuteTime": {
     "end_time": "2025-08-27T12:49:44.972146Z",
     "start_time": "2025-08-27T12:49:44.964261Z"
    }
   },
   "source": [
    "# initialise the network\n",
    "net = Net()\n",
    "net.to(device)\n",
    "# define optimiser\n",
    "lr_start = 1e-5\n",
    "lr_end = 0.01\n",
    "num_iters = len(trainloader)\n",
    "optimizer = optim.SGD(net.parameters(), lr = lr_start, momentum = 0.9)\n",
    "lrs = np.logspace(np.log10(lr_start), np.log10(lr_end), num_iters)"
   ],
   "outputs": [],
   "execution_count": 66
  },
  {
   "cell_type": "code",
   "id": "8227390b",
   "metadata": {
    "ExecuteTime": {
     "end_time": "2025-08-27T12:50:23.737927Z",
     "start_time": "2025-08-27T12:49:45.299808Z"
    }
   },
   "source": [
    "# lr range test\n",
    "losses = []\n",
    "for i, (inputs, labels) in enumerate(trainloader):\n",
    "    lr = lrs[i]\n",
    "    for param_group in optimizer.param_groups:\n",
    "        param_group['lr'] = lr\n",
    "    inputs, labels = inputs.to(device), labels.to(device)\n",
    "    optimizer.zero_grad()\n",
    "    outputs = net(inputs)\n",
    "    loss = criterion(outputs, labels)\n",
    "    loss.backward()\n",
    "    optimizer.step()\n",
    "\n",
    "    losses.append(loss.item())\n",
    "    "
   ],
   "outputs": [],
   "execution_count": 67
  },
  {
   "cell_type": "code",
   "id": "4028da46",
   "metadata": {
    "ExecuteTime": {
     "end_time": "2025-08-27T12:50:38.168108Z",
     "start_time": "2025-08-27T12:50:37.957835Z"
    }
   },
   "source": [
    "plt.plot(lrs, losses)\n",
    "plt.xscale('log')\n",
    "plt.xlabel('learning rate (Log Scale)')\n",
    "plt.ylabel('loss')\n",
    "plt.title(\"Learning Rate Range Test\")\n",
    "plt.show()"
   ],
   "outputs": [
    {
     "data": {
      "text/plain": [
       "<Figure size 640x480 with 1 Axes>"
      ],
      "image/png": "[encoded data removed]"
     },
     "metadata": {},
     "output_type": "display_data"
    }
   ],
   "execution_count": 68
  },
  {
   "cell_type": "code",
   "id": "a6903412",
   "metadata": {
    "ExecuteTime": {
     "end_time": "2025-08-27T12:54:26.460404Z",
     "start_time": "2025-08-27T12:50:55.786786Z"
    }
   },
   "source": [
    "net = Net() # important! initialise the network\n",
    "net.to(device)\n",
    "optimizer = optim.SGD(net.parameters(), lr = 0.0005, momentum = 0.9)\n",
    "for epoch in range(5):\n",
    "    running_loss = 0.0\n",
    "    for i, data in enumerate(trainloader, 0):\n",
    "        inputs, labels = data\n",
    "        inputs, labels = inputs.to(device), labels.to(device)\n",
    "        optimizer.zero_grad()\n",
    "        outputs = net(inputs)\n",
    "        loss = criterion(outputs,labels)\n",
    "        loss.backward()\n",
    "        optimizer.step()\n",
    "\n",
    "        running_loss += loss.item()\n",
    "        if i % 2000 == 1999:\n",
    "            print(f\"[{epoch + 1}, {i + 1 :5d}] loss: {running_loss/2000:.3f}\")\n",
    "            running_loss = 0.00\n",
    "print(\"Finished Training\")"
   ],
   "outputs": [
    {
     "name": "stdout",
     "output_type": "stream",
     "text": [
      "[1,  2000] loss: 2.300\n",
      "[1,  4000] loss: 2.161\n",
      "[1,  6000] loss: 1.927\n",
      "[1,  8000] loss: 1.782\n",
      "[1, 10000] loss: 1.651\n",
      "[1, 12000] loss: 1.566\n",
      "[2,  2000] loss: 1.507\n",
      "[2,  4000] loss: 1.451\n",
      "[2,  6000] loss: 1.428\n",
      "[2,  8000] loss: 1.428\n",
      "[2, 10000] loss: 1.389\n",
      "[2, 12000] loss: 1.351\n",
      "[3,  2000] loss: 1.322\n",
      "[3,  4000] loss: 1.287\n",
      "[3,  6000] loss: 1.275\n",
      "[3,  8000] loss: 1.253\n",
      "[3, 10000] loss: 1.260\n",
      "[3, 12000] loss: 1.243\n",
      "[4,  2000] loss: 1.186\n",
      "[4,  4000] loss: 1.186\n",
      "[4,  6000] loss: 1.170\n",
      "[4,  8000] loss: 1.152\n",
      "[4, 10000] loss: 1.157\n",
      "[4, 12000] loss: 1.141\n",
      "[5,  2000] loss: 1.075\n",
      "[5,  4000] loss: 1.102\n",
      "[5,  6000] loss: 1.101\n",
      "[5,  8000] loss: 1.088\n",
      "[5, 10000] loss: 1.084\n",
      "[5, 12000] loss: 1.080\n",
      "Finished Training\n"
     ]
    }
   ],
   "execution_count": 70
  },
  {
   "cell_type": "code",
   "id": "1fb3a17d",
   "metadata": {
    "ExecuteTime": {
     "end_time": "2025-08-27T12:54:42.611498Z",
     "start_time": "2025-08-27T12:54:36.337015Z"
    }
   },
   "source": [
    "## check accuracy of the whole test dataset\n",
    "correct = 0\n",
    "total = 0\n",
    "with torch.no_grad():\n",
    "    for data in testloader:\n",
    "        images, labels = data\n",
    "        images, labels = images.to(device), labels.to(device)\n",
    "        outputs = net(images)\n",
    "        _, predicted = torch.max(outputs, 1)\n",
    "        total += labels.size(0)\n",
    "        correct += (predicted == labels).sum().item()\n",
    "\n",
    "print(f\"Accuracy of the network on the 10000 test images: {100 * correct//total} %\")"
   ],
   "outputs": [
    {
     "name": "stdout",
     "output_type": "stream",
     "text": [
      "Accuracy of the network on the 10000 test images: 58 %\n"
     ]
    }
   ],
   "execution_count": 71
  },
  {
   "cell_type": "code",
   "id": "f8c09cdc",
   "metadata": {
    "ExecuteTime": {
     "end_time": "2025-08-27T12:54:58.733269Z",
     "start_time": "2025-08-27T12:54:51.668546Z"
    }
   },
   "source": [
    "# check accuracy for each class\n",
    "correct_pred = {classname: 0 for classname in classes}\n",
    "total_pred = {classname: 0 for classname in classes}\n",
    "\n",
    "with torch.no_grad():\n",
    "    for data in testloader:\n",
    "        images, labels = data\n",
    "        images, labels = images.to(device), labels.to(device)\n",
    "        outputs = net(images)\n",
    "        _, predictions = torch.max(outputs, 1)\n",
    "        for label, prediction in zip(labels, predictions):\n",
    "            if label == prediction:\n",
    "                correct_pred[classes[label]] += 1\n",
    "            total_pred[classes[label]] += 1\n",
    "\n",
    "for classname, correct_count in correct_pred.items():\n",
    "    accuracy = 100 * float(correct_count)/total_pred[classname]\n",
    "    print(f\"Accuracy for class: {classname:5s} is {accuracy:.1f} %\")"
   ],
   "outputs": [
    {
     "name": "stdout",
     "output_type": "stream",
     "text": [
      "Accuracy for class: plane is 55.3 %\n",
      "Accuracy for class: car   is 65.6 %\n",
      "Accuracy for class: bird  is 31.2 %\n",
      "Accuracy for class: cat   is 49.9 %\n",
      "Accuracy for class: deer  is 48.4 %\n",
      "Accuracy for class: dog   is 42.8 %\n",
      "Accuracy for class: frog  is 71.5 %\n",
      "Accuracy for class: horse is 69.8 %\n",
      "Accuracy for class: ship  is 70.8 %\n",
      "Accuracy for class: truck is 78.2 %\n"
     ]
    }
   ],
   "execution_count": 72
  },
  {
   "cell_type": "code",
   "execution_count": null,
   "id": "167800df",
   "metadata": {},
   "outputs": [],
   "source": []
  }
 ],
 "metadata": {
  "kernelspec": {
   "display_name": "Python 3",
   "language": "python",
   "name": "python3"
  },
  "language_info": {
   "codemirror_mode": {
    "name": "ipython",
    "version": 3
   },
   "file_extension": ".py",
   "mimetype": "text/x-python",
   "name": "python",
   "nbconvert_exporter": "python",
   "pygments_lexer": "ipython3",
   "version": "3.13.7"
  }
 },
 "nbformat": 4,
 "nbformat_minor": 5
}
