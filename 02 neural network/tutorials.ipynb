{
 "cells": [
  {
   "cell_type": "markdown",
   "id": "77b5d6ea",
   "metadata": {},
   "source": [
    "# Neural Network"
   ]
  },
  {
   "cell_type": "markdown",
   "id": "2905c9bb",
   "metadata": {},
   "source": [
    "**Typical Training Procedure for A Neural Network**  \n",
    "1. define the neural network that has some learnable parameters (or weights)\n",
    "2. iterate over a dataset of inputs\n",
    "3. process input through the network\n",
    "4. compute the loss (how far is the output from being correct)\n",
    "5. propagare the gradients back into the network's parameters\n",
    "6. updates the weights of the network, typically using a simple update rule:\n",
    "$$weight = weight - learning_rate * gradient$$"
   ]
  },
  {
   "cell_type": "code",
   "id": "f97ecf3d",
   "metadata": {
    "ExecuteTime": {
     "end_time": "2025-08-27T12:09:27.308521Z",
     "start_time": "2025-08-27T12:09:24.781506Z"
    }
   },
   "source": [
    "import torch\n",
    "import torch.nn as nn\n",
    "import torch.nn.functional as F"
   ],
   "outputs": [],
   "execution_count": 1
  },
  {
   "cell_type": "code",
   "id": "d974cbcb",
   "metadata": {
    "ExecuteTime": {
     "end_time": "2025-08-27T12:09:57.780073Z",
     "start_time": "2025-08-27T12:09:57.753555Z"
    }
   },
   "source": [
    "class Net(nn.Module):\n",
    "    def __init__(self):\n",
    "        super(Net, self).__init__()\n",
    "        # 1 input image channel, 6 output channels, 5 x 5 square convolution\n",
    "        # kernel\n",
    "        self.conv1 = nn.Conv2d(1, 6, 5)\n",
    "        self.conv2 = nn.Conv2d(6, 16, 5)\n",
    "        # an affine operation: y = wx + b\n",
    "        self.fc1 = nn.Linear(16*5 * 5, 120)\n",
    "        self.fc2 = nn.Linear(120,84)\n",
    "        self.fc3 = nn.Linear(84,10)\n",
    "    def forward(self, input): # Note: expected input size is 32 x 32\n",
    "        # convolution layer C1: input 1 input image channel, 6 output channels\n",
    "        # kernel size 5x5\n",
    "        # use ReLU as activation function\n",
    "        # outputs a Tensor with (N, 6, 28, 28)\n",
    "        c1 = F.relu(self.conv1(input))\n",
    "        # subsampling layer S2: 2x2 grid\n",
    "        s2 = F.max_pool2d(c1, (2,2))\n",
    "        # convolution layer C3: 6 input channels, 16 output channels, 5x5 kernel\n",
    "        c3 = F.relu(self.conv2(s2))\n",
    "        # subsampling layer s4: 2x2 grid\n",
    "        s4 = F.max_pool2d(c3, (2,2))\n",
    "        # flatten operation\n",
    "        s4 = torch.flatten(s4,1)\n",
    "        # fully connected layer F5: 16*5*5 inputs, 120 outputs\n",
    "        f5 = F.relu(self.fc1(s4))\n",
    "        # fully connected layer F6: 120 inputs, 84 outputs\n",
    "        f6 = F.relu(self.fc2(f5))\n",
    "        # fully connected layer F7: 84 inputs, 10 outputs\n",
    "        output = self.fc3(f6)\n",
    "        return output\n",
    "\n",
    "net = Net()\n",
    "print(net)"
   ],
   "outputs": [
    {
     "name": "stdout",
     "output_type": "stream",
     "text": [
      "Net(\n",
      "  (conv1): Conv2d(1, 6, kernel_size=(5, 5), stride=(1, 1))\n",
      "  (conv2): Conv2d(6, 16, kernel_size=(5, 5), stride=(1, 1))\n",
      "  (fc1): Linear(in_features=400, out_features=120, bias=True)\n",
      "  (fc2): Linear(in_features=120, out_features=84, bias=True)\n",
      "  (fc3): Linear(in_features=84, out_features=10, bias=True)\n",
      ")\n"
     ]
    }
   ],
   "execution_count": 2
  },
  {
   "metadata": {
    "ExecuteTime": {
     "end_time": "2025-08-27T12:10:58.019062Z",
     "start_time": "2025-08-27T12:10:57.901554Z"
    }
   },
   "cell_type": "code",
   "source": [
    "# set to cuda if applicable\n",
    "device = torch.device('cuda:0' if torch.cuda.is_available() else 'cpu')\n",
    "net.to(device)"
   ],
   "id": "7ce95c9093110eb3",
   "outputs": [
    {
     "data": {
      "text/plain": [
       "Net(\n",
       "  (conv1): Conv2d(1, 6, kernel_size=(5, 5), stride=(1, 1))\n",
       "  (conv2): Conv2d(6, 16, kernel_size=(5, 5), stride=(1, 1))\n",
       "  (fc1): Linear(in_features=400, out_features=120, bias=True)\n",
       "  (fc2): Linear(in_features=120, out_features=84, bias=True)\n",
       "  (fc3): Linear(in_features=84, out_features=10, bias=True)\n",
       ")"
      ]
     },
     "execution_count": 4,
     "metadata": {},
     "output_type": "execute_result"
    }
   ],
   "execution_count": 4
  },
  {
   "cell_type": "code",
   "id": "bdaf66e1",
   "metadata": {
    "ExecuteTime": {
     "end_time": "2025-08-27T12:11:02.817490Z",
     "start_time": "2025-08-27T12:11:02.811096Z"
    }
   },
   "source": [
    "params = list(net.parameters())\n",
    "print(len(params))\n",
    "print(params[0].size())"
   ],
   "outputs": [
    {
     "name": "stdout",
     "output_type": "stream",
     "text": [
      "10\n",
      "torch.Size([6, 1, 5, 5])\n"
     ]
    }
   ],
   "execution_count": 5
  },
  {
   "cell_type": "code",
   "id": "60e38fcb",
   "metadata": {
    "ExecuteTime": {
     "end_time": "2025-08-27T12:15:09.944814Z",
     "start_time": "2025-08-27T12:15:09.932992Z"
    }
   },
   "source": [
    "# try a random 32 x 32 input\n",
    "input = torch.randn(1,1,32,32)\n",
    "input = input.to(device)\n",
    "output = net(input)\n",
    "print(output)\n",
    "# backward pass\n",
    "net.zero_grad()\n",
    "back = torch.randn(1,10)\n",
    "back = back.to(device)\n",
    "output.backward(back) # simulate a loss to backpropagate"
   ],
   "outputs": [
    {
     "name": "stdout",
     "output_type": "stream",
     "text": [
      "tensor([[-0.0423, -0.0910,  0.0002, -0.1010, -0.0380,  0.0089,  0.0308, -0.0540,\n",
      "         -0.0389, -0.0087]], device='cuda:0', grad_fn=<AddmmBackward0>)\n"
     ]
    }
   ],
   "execution_count": 12
  },
  {
   "cell_type": "markdown",
   "id": "b31bfed8",
   "metadata": {},
   "source": [
    "## Loss Function"
   ]
  },
  {
   "cell_type": "markdown",
   "id": "a8de434b",
   "metadata": {},
   "source": [
    "A loss function takes the (output, target) pair of inputs, and computes a value that estimate how far away the output is from the target.  \n",
    "There are several different loss functions under the ```nn``` package. A simple loss function is ```nn.MSELoss``` which computes the mean squared error between the output and the target."
   ]
  },
  {
   "cell_type": "code",
   "id": "0bc51dac",
   "metadata": {
    "ExecuteTime": {
     "end_time": "2025-08-27T12:15:32.471382Z",
     "start_time": "2025-08-27T12:15:32.406970Z"
    }
   },
   "source": [
    "output = net(input)\n",
    "target = torch.randn(10)\n",
    "target = target.to(device)\n",
    "print(target)\n",
    "target = target.view(1,-1) # make it the same shape as output\n",
    "print(target)\n",
    "criterion = nn.MSELoss()\n",
    "loss = criterion(output, target)\n",
    "print(loss)"
   ],
   "outputs": [
    {
     "name": "stdout",
     "output_type": "stream",
     "text": [
      "tensor([-1.2567, -1.5319, -0.4420, -2.2745, -0.1659, -0.3312, -0.3993,  0.6228,\n",
      "         0.8477,  0.2631], device='cuda:0')\n",
      "tensor([[-1.2567, -1.5319, -0.4420, -2.2745, -0.1659, -0.3312, -0.3993,  0.6228,\n",
      "          0.8477,  0.2631]], device='cuda:0')\n",
      "tensor(1.0105, device='cuda:0', grad_fn=<MseLossBackward0>)\n"
     ]
    }
   ],
   "execution_count": 13
  },
  {
   "cell_type": "code",
   "id": "7d42de9d",
   "metadata": {
    "ExecuteTime": {
     "end_time": "2025-08-27T12:15:34.164445Z",
     "start_time": "2025-08-27T12:15:34.147290Z"
    }
   },
   "source": [
    "# manually backpropagate example\n",
    "print(loss.grad_fn) #MSELoss\n",
    "print(loss.grad_fn.next_functions[0][0]) #Linear\n",
    "print(loss.grad_fn.next_functions[0][0].next_functions[0][0]) #ReLU"
   ],
   "outputs": [
    {
     "name": "stdout",
     "output_type": "stream",
     "text": [
      "<MseLossBackward0 object at 0x0000016F9DD47CA0>\n",
      "<AddmmBackward0 object at 0x0000016F8CA8C340>\n",
      "<AccumulateGrad object at 0x0000016F9DD47CA0>\n"
     ]
    }
   ],
   "execution_count": 14
  },
  {
   "cell_type": "code",
   "id": "e70762d5",
   "metadata": {
    "ExecuteTime": {
     "end_time": "2025-08-27T12:15:35.149460Z",
     "start_time": "2025-08-27T12:15:35.101364Z"
    }
   },
   "source": [
    "## Auto Backpropagate\n",
    "net.zero_grad()\n",
    "print('conv1.bias.grad before backward')\n",
    "print(net.conv1.bias.grad)\n",
    "loss.backward()\n",
    "print('conv1.bias.grad after backward')\n",
    "print(net.conv1.bias.grad)"
   ],
   "outputs": [
    {
     "name": "stdout",
     "output_type": "stream",
     "text": [
      "conv1.bias.grad before backward\n",
      "None\n",
      "conv1.bias.grad after backward\n",
      "tensor([-0.0053, -0.0008, -0.0118, -0.0012, -0.0217, -0.0028], device='cuda:0')\n"
     ]
    }
   ],
   "execution_count": 15
  },
  {
   "cell_type": "markdown",
   "id": "60d15a8e",
   "metadata": {},
   "source": [
    "## Update the weights"
   ]
  },
  {
   "cell_type": "markdown",
   "id": "97748fa3",
   "metadata": {},
   "source": [
    "$weight = weight - learning\\space rate \\times gradient$"
   ]
  },
  {
   "cell_type": "code",
   "id": "46914627",
   "metadata": {
    "ExecuteTime": {
     "end_time": "2025-08-27T12:15:37.879283Z",
     "start_time": "2025-08-27T12:15:37.861787Z"
    }
   },
   "source": [
    "## manually update the weights\n",
    "learning_rate = 0.01\n",
    "for param in net.parameters():\n",
    "    param.data.sub_(learning_rate * param.grad.data)\n"
   ],
   "outputs": [],
   "execution_count": 16
  },
  {
   "cell_type": "code",
   "id": "ff421315",
   "metadata": {
    "ExecuteTime": {
     "end_time": "2025-08-27T12:15:39.396421Z",
     "start_time": "2025-08-27T12:15:38.768171Z"
    }
   },
   "source": [
    "## automatically update the weights by more approaches\n",
    "import torch.optim as optim\n",
    "optimizer = optim.SGD(net.parameters(), lr = 0.01)\n",
    "\n",
    "optimizer.zero_grad()\n",
    "output = net(input)\n",
    "loss = criterion(output, target)\n",
    "loss.backward()\n",
    "optimizer.step() # update the weights"
   ],
   "outputs": [],
   "execution_count": 17
  },
  {
   "cell_type": "markdown",
   "id": "5bc12763",
   "metadata": {},
   "source": [
    "# Trainig a classifier"
   ]
  },
  {
   "cell_type": "markdown",
   "id": "3753cab1",
   "metadata": {},
   "source": [
    "In A 60 minute Blitz, we will use the CIFAR10 dataset. It has classes: \"airplane\", \"automobile\", \"bird\", \"cat\", \"deer\", \"dog\", \"frog\", \"horse\", \"ship\" and \"truck\". The images in CIFAR-10 are of size 3 x 32 x 32 (3 channel color images of 32 x 32 pixels in size."
   ]
  },
  {
   "cell_type": "markdown",
   "id": "17334cf8",
   "metadata": {},
   "source": [
    "Steps to training an image classifer\n",
    "1. load and normalise the CIFAR-10 training and test datasets using torchvision\n",
    "2. define a convolutional neural network\n",
    "3. define a loss function\n",
    "4. train the network on the training data\n",
    "5. test the network on the test data"
   ]
  },
  {
   "cell_type": "code",
   "id": "9d039fe0",
   "metadata": {
    "ExecuteTime": {
     "end_time": "2025-08-27T12:16:16.781594Z",
     "start_time": "2025-08-27T12:15:41.607311Z"
    }
   },
   "source": [
    "# load and normalise the CIFAR-10\n",
    "import torch\n",
    "import torchvision\n",
    "import torchvision.transforms as transforms\n",
    "transform = transforms.Compose([transforms.ToTensor(),\n",
    "                                transforms.Normalize((0.5, 0.5, 0.5), (0.5, 0.5, 0.5))])\n",
    "batch_size = 4\n",
    "trainset = torchvision.datasets.CIFAR10(root = \"./data\", train = True, download = True, transform = transform)\n",
    "trainloader = torch.utils.data.DataLoader(trainset, batch_size = batch_size, shuffle = True, num_workers = 2)\n",
    "testset = torchvision.datasets.CIFAR10(root = \"./data\", train = False, download = True, transform = transform)\n",
    "testloader = torch.utils.data.DataLoader(testset, batch_size = batch_size, shuffle = False, num_workers = 2)\n",
    "\n",
    "classes = ('plane', 'car', 'bird', 'cat', 'deer', 'dog', 'frog', 'horse', 'ship', 'truck')"
   ],
   "outputs": [
    {
     "name": "stderr",
     "output_type": "stream",
     "text": [
      "100.0%\n"
     ]
    }
   ],
   "execution_count": 18
  },
  {
   "metadata": {
    "ExecuteTime": {
     "end_time": "2025-08-27T12:19:47.467719Z",
     "start_time": "2025-08-27T12:19:42.241428Z"
    }
   },
   "cell_type": "code",
   "source": "pip install matplotlib",
   "id": "6d81b15cb85a1a82",
   "outputs": [
    {
     "name": "stdout",
     "output_type": "stream",
     "text": [
      "Collecting matplotlib\n",
      "  Downloading matplotlib-3.10.5-cp312-cp312-win_amd64.whl.metadata (11 kB)\n",
      "Collecting contourpy>=1.0.1 (from matplotlib)\n",
      "  Downloading contourpy-1.3.3-cp312-cp312-win_amd64.whl.metadata (5.5 kB)\n",
      "Collecting cycler>=0.10 (from matplotlib)\n",
      "  Downloading cycler-0.12.1-py3-none-any.whl.metadata (3.8 kB)\n",
      "Collecting fonttools>=4.22.0 (from matplotlib)\n",
      "  Downloading fonttools-4.59.1-cp312-cp312-win_amd64.whl.metadata (111 kB)\n",
      "Collecting kiwisolver>=1.3.1 (from matplotlib)\n",
      "  Downloading kiwisolver-1.4.9-cp312-cp312-win_amd64.whl.metadata (6.4 kB)\n",
      "Requirement already satisfied: numpy>=1.23 in d:\\github\\pytorch_foundamentals\\.venv\\lib\\site-packages (from matplotlib) (2.3.2)\n",
      "Requirement already satisfied: packaging>=20.0 in d:\\github\\pytorch_foundamentals\\.venv\\lib\\site-packages (from matplotlib) (25.0)\n",
      "Requirement already satisfied: pillow>=8 in d:\\github\\pytorch_foundamentals\\.venv\\lib\\site-packages (from matplotlib) (11.3.0)\n",
      "Collecting pyparsing>=2.3.1 (from matplotlib)\n",
      "  Downloading pyparsing-3.2.3-py3-none-any.whl.metadata (5.0 kB)\n",
      "Requirement already satisfied: python-dateutil>=2.7 in d:\\github\\pytorch_foundamentals\\.venv\\lib\\site-packages (from matplotlib) (2.9.0.post0)\n",
      "Requirement already satisfied: six>=1.5 in d:\\github\\pytorch_foundamentals\\.venv\\lib\\site-packages (from python-dateutil>=2.7->matplotlib) (1.17.0)\n",
      "Downloading matplotlib-3.10.5-cp312-cp312-win_amd64.whl (8.1 MB)\n",
      "   ---------------------------------------- 0.0/8.1 MB ? eta -:--:--\n",
      "   ------------------- -------------------- 3.9/8.1 MB 19.5 MB/s eta 0:00:01\n",
      "   ---------------------------------------- 8.1/8.1 MB 21.8 MB/s eta 0:00:00\n",
      "Downloading contourpy-1.3.3-cp312-cp312-win_amd64.whl (226 kB)\n",
      "Downloading cycler-0.12.1-py3-none-any.whl (8.3 kB)\n",
      "Downloading fonttools-4.59.1-cp312-cp312-win_amd64.whl (2.3 MB)\n",
      "   ---------------------------------------- 0.0/2.3 MB ? eta -:--:--\n",
      "   ---------------------------------------- 2.3/2.3 MB 32.1 MB/s eta 0:00:00\n",
      "Downloading kiwisolver-1.4.9-cp312-cp312-win_amd64.whl (73 kB)\n",
      "Downloading pyparsing-3.2.3-py3-none-any.whl (111 kB)\n",
      "Installing collected packages: pyparsing, kiwisolver, fonttools, cycler, contourpy, matplotlib\n",
      "\n",
      "   ------------- -------------------------- 2/6 [fonttools]\n",
      "   ------------- -------------------------- 2/6 [fonttools]\n",
      "   ------------- -------------------------- 2/6 [fonttools]\n",
      "   ------------- -------------------------- 2/6 [fonttools]\n",
      "   ------------- -------------------------- 2/6 [fonttools]\n",
      "   ------------- -------------------------- 2/6 [fonttools]\n",
      "   --------------------------------- ------ 5/6 [matplotlib]\n",
      "   --------------------------------- ------ 5/6 [matplotlib]\n",
      "   --------------------------------- ------ 5/6 [matplotlib]\n",
      "   --------------------------------- ------ 5/6 [matplotlib]\n",
      "   --------------------------------- ------ 5/6 [matplotlib]\n",
      "   --------------------------------- ------ 5/6 [matplotlib]\n",
      "   --------------------------------- ------ 5/6 [matplotlib]\n",
      "   --------------------------------- ------ 5/6 [matplotlib]\n",
      "   ---------------------------------------- 6/6 [matplotlib]\n",
      "\n",
      "Successfully installed contourpy-1.3.3 cycler-0.12.1 fonttools-4.59.1 kiwisolver-1.4.9 matplotlib-3.10.5 pyparsing-3.2.3\n",
      "Note: you may need to restart the kernel to use updated packages.\n"
     ]
    },
    {
     "name": "stderr",
     "output_type": "stream",
     "text": [
      "\n",
      "[notice] A new release of pip is available: 25.1.1 -> 25.2\n",
      "[notice] To update, run: python.exe -m pip install --upgrade pip\n"
     ]
    }
   ],
   "execution_count": 20
  },
  {
   "cell_type": "code",
   "id": "a0f1b0b5",
   "metadata": {
    "ExecuteTime": {
     "end_time": "2025-08-27T12:20:06.603515Z",
     "start_time": "2025-08-27T12:20:00.144036Z"
    }
   },
   "source": [
    "import matplotlib.pyplot as plt\n",
    "import numpy as np\n",
    "\n",
    "def imshow(img):\n",
    "    img = img / 2 + 0.5\n",
    "    npimg = img.numpy()\n",
    "    plt.imshow(np.transpose(npimg, (1,2,0)))\n",
    "    plt.show()\n",
    "dataiter = iter(trainloader)\n",
    "images, labels = next(dataiter)\n",
    "\n",
    "imshow(torchvision.utils.make_grid(images))\n",
    "print(' '.join(f'{classes[labels[j]]:5s}' for j in range(batch_size)))"
   ],
   "outputs": [
    {
     "data": {
      "text/plain": [
       "<Figure size 640x480 with 1 Axes>"
      ],
      "image/png": "[encoded data removed]"
     },
     "metadata": {},
     "output_type": "display_data"
    },
    {
     "name": "stdout",
     "output_type": "stream",
     "text": [
      "dog   truck frog  truck\n"
     ]
    }
   ],
   "execution_count": 21
  },
  {
   "cell_type": "markdown",
   "id": "219cfd2c",
   "metadata": {},
   "source": [
    "### Define a convolutional neural network"
   ]
  },
  {
   "cell_type": "code",
   "id": "2f62fb5e",
   "metadata": {
    "ExecuteTime": {
     "end_time": "2025-08-27T12:21:31.933907Z",
     "start_time": "2025-08-27T12:21:31.919630Z"
    }
   },
   "source": [
    "import torch.nn as nn\n",
    "import torch.nn.functional as F\n",
    "\n",
    "class Net(nn.Module):\n",
    "    def __init__(self):\n",
    "        super().__init__()\n",
    "        self.conv1 = nn.Conv2d(3, 6, 5)\n",
    "        self.pool = nn.MaxPool2d(2, 2)\n",
    "        self.conv2 = nn.Conv2d(6, 16, 5)\n",
    "        self.fc1 = nn.Linear(16 * 5 * 5, 120)\n",
    "        self.fc2 = nn.Linear(120, 84)\n",
    "        self.fc3 = nn.Linear(84, 10)\n",
    "    def forward(self, x):\n",
    "        x =self.pool(F.relu(self.conv1(x)))\n",
    "        x = self.pool(F.relu(self.conv2(x)))\n",
    "        x = torch.flatten(x, 1)\n",
    "        x = F.relu(self.fc1(x))\n",
    "        x = F.relu(self.fc2(x))\n",
    "        x = self.fc3(x)\n",
    "        return x\n",
    "net = Net()\n",
    "net.to(device)"
   ],
   "outputs": [
    {
     "data": {
      "text/plain": [
       "Net(\n",
       "  (conv1): Conv2d(3, 6, kernel_size=(5, 5), stride=(1, 1))\n",
       "  (pool): MaxPool2d(kernel_size=2, stride=2, padding=0, dilation=1, ceil_mode=False)\n",
       "  (conv2): Conv2d(6, 16, kernel_size=(5, 5), stride=(1, 1))\n",
       "  (fc1): Linear(in_features=400, out_features=120, bias=True)\n",
       "  (fc2): Linear(in_features=120, out_features=84, bias=True)\n",
       "  (fc3): Linear(in_features=84, out_features=10, bias=True)\n",
       ")"
      ]
     },
     "execution_count": 25,
     "metadata": {},
     "output_type": "execute_result"
    }
   ],
   "execution_count": 25
  },
  {
   "cell_type": "markdown",
   "id": "444b5869",
   "metadata": {},
   "source": [
    "### Define a loss function and optimiser"
   ]
  },
  {
   "cell_type": "code",
   "id": "df67c4e6",
   "metadata": {
    "ExecuteTime": {
     "end_time": "2025-08-27T12:21:33.961323Z",
     "start_time": "2025-08-27T12:21:33.953025Z"
    }
   },
   "source": [
    "import torch.optim as optim\n",
    "criterion = nn.CrossEntropyLoss()\n",
    "optimizer = optim.SGD(net.parameters(), lr = 0.001, momentum = 0.9) # momentum = 0.9\n",
    "# updates keep moving strongly in the same direction as before, unless the new gradient really disagrees"
   ],
   "outputs": [],
   "execution_count": 26
  },
  {
   "cell_type": "markdown",
   "id": "6d6f1f76",
   "metadata": {},
   "source": [
    "### Train the Network"
   ]
  },
  {
   "cell_type": "code",
   "id": "c6940748",
   "metadata": {
    "ExecuteTime": {
     "end_time": "2025-08-27T12:24:11.403298Z",
     "start_time": "2025-08-27T12:21:34.615748Z"
    }
   },
   "source": [
    "for epoch in range(5):\n",
    "    running_loss = 0.0\n",
    "    for i, data in enumerate(trainloader, 0):\n",
    "        inputs, labels = data\n",
    "        inputs = inputs.to(device)\n",
    "        labels = labels.to(device)\n",
    "        optimizer.zero_grad()\n",
    "        outputs = net(inputs)\n",
    "        loss = criterion(outputs,labels)\n",
    "        loss.backward()\n",
    "        optimizer.step()\n",
    "\n",
    "        running_loss += loss.item()\n",
    "        if i % 2000 == 1999:\n",
    "            print(f\"[{epoch + 1}, {i + 1 :5d}] loss: {running_loss/2000:.3f}\")\n",
    "            running_loss = 0.00\n",
    "print(\"Finished Training\")"
   ],
   "outputs": [
    {
     "name": "stdout",
     "output_type": "stream",
     "text": [
      "[1,  2000] loss: 2.189\n",
      "[1,  4000] loss: 1.862\n",
      "[1,  6000] loss: 1.653\n",
      "[1,  8000] loss: 1.555\n",
      "[1, 10000] loss: 1.503\n",
      "[1, 12000] loss: 1.439\n",
      "[2,  2000] loss: 1.395\n",
      "[2,  4000] loss: 1.341\n",
      "[2,  6000] loss: 1.310\n",
      "[2,  8000] loss: 1.317\n",
      "[2, 10000] loss: 1.296\n",
      "[2, 12000] loss: 1.275\n",
      "[3,  2000] loss: 1.198\n",
      "[3,  4000] loss: 1.209\n",
      "[3,  6000] loss: 1.190\n",
      "[3,  8000] loss: 1.201\n",
      "[3, 10000] loss: 1.174\n",
      "[3, 12000] loss: 1.177\n",
      "[4,  2000] loss: 1.114\n",
      "[4,  4000] loss: 1.097\n",
      "[4,  6000] loss: 1.124\n",
      "[4,  8000] loss: 1.082\n",
      "[4, 10000] loss: 1.085\n",
      "[4, 12000] loss: 1.102\n",
      "[5,  2000] loss: 1.023\n",
      "[5,  4000] loss: 1.044\n",
      "[5,  6000] loss: 1.023\n",
      "[5,  8000] loss: 1.035\n",
      "[5, 10000] loss: 1.041\n",
      "[5, 12000] loss: 1.039\n",
      "Finished Training\n"
     ]
    }
   ],
   "execution_count": 27
  },
  {
   "cell_type": "markdown",
   "id": "c0d4d677",
   "metadata": {},
   "source": [
    "### Test the model on test data"
   ]
  },
  {
   "cell_type": "code",
   "id": "98d7a97e",
   "metadata": {
    "ExecuteTime": {
     "end_time": "2025-08-27T12:26:22.350519Z",
     "start_time": "2025-08-27T12:26:17.864382Z"
    }
   },
   "source": [
    "dataiter = iter(testloader)\n",
    "images, labels = next(dataiter)\n",
    "imshow(torchvision.utils.make_grid(images))\n",
    "print(\"GroundTruth: \", ' '.join(f'{classes[labels[j]]:5s}' for j in range(4)))"
   ],
   "outputs": [
    {
     "data": {
      "text/plain": [
       "<Figure size 640x480 with 1 Axes>"
      ],
      "image/png": "[encoded data removed]"
     },
     "metadata": {},
     "output_type": "display_data"
    },
    {
     "name": "stdout",
     "output_type": "stream",
     "text": [
      "GroundTruth:  cat   ship  ship  plane\n"
     ]
    }
   ],
   "execution_count": 34
  },
  {
   "cell_type": "markdown",
   "id": "ad3a9c8f",
   "metadata": {},
   "source": [
    "### Save the model"
   ]
  },
  {
   "cell_type": "code",
   "id": "3bac21e3",
   "metadata": {
    "ExecuteTime": {
     "end_time": "2025-08-27T12:25:34.599169Z",
     "start_time": "2025-08-27T12:25:34.592315Z"
    }
   },
   "source": [
    "PATH = './cifar_net.pth'\n",
    "torch.save(net.state_dict(), PATH)"
   ],
   "outputs": [],
   "execution_count": 31
  },
  {
   "cell_type": "markdown",
   "id": "0556214a",
   "metadata": {},
   "source": [
    "### Reload the model if necessary"
   ]
  },
  {
   "cell_type": "code",
   "id": "4a96e870",
   "metadata": {
    "ExecuteTime": {
     "end_time": "2025-08-27T12:25:42.111060Z",
     "start_time": "2025-08-27T12:25:42.097374Z"
    }
   },
   "source": [
    "net = Net()\n",
    "net.to(device)\n",
    "net.load_state_dict(torch.load(PATH, weights_only = True))"
   ],
   "outputs": [
    {
     "data": {
      "text/plain": [
       "<All keys matched successfully>"
      ]
     },
     "execution_count": 32,
     "metadata": {},
     "output_type": "execute_result"
    }
   ],
   "execution_count": 32
  },
  {
   "cell_type": "code",
   "id": "2d0e72c1",
   "metadata": {
    "ExecuteTime": {
     "end_time": "2025-08-27T12:26:42.231690Z",
     "start_time": "2025-08-27T12:26:42.224594Z"
    }
   },
   "source": [
    "## see how the network performs on the images we selected\n",
    "images, labels = images.to(device), labels.to(device)\n",
    "outputs = net(images)\n",
    "_, predicted = torch.max(outputs, 1)\n",
    "print('Predicted: ', ' '.join(f'{classes[predicted[j]]:5s}' for j in range(4)))"
   ],
   "outputs": [
    {
     "name": "stdout",
     "output_type": "stream",
     "text": [
      "Predicted:  cat   car   ship  plane\n"
     ]
    }
   ],
   "execution_count": 35
  },
  {
   "cell_type": "code",
   "id": "8fb13a89",
   "metadata": {
    "ExecuteTime": {
     "end_time": "2025-08-27T12:27:06.725599Z",
     "start_time": "2025-08-27T12:27:00.357209Z"
    }
   },
   "source": [
    "## check accuracy of the whole dataset\n",
    "correct = 0\n",
    "total = 0\n",
    "with torch.no_grad():\n",
    "    for data in testloader:\n",
    "        images, labels = data\n",
    "        images = images.to(device)\n",
    "        labels = labels.to(device)\n",
    "        outputs = net(images)\n",
    "        _, predicted = torch.max(outputs, 1)\n",
    "        total += labels.size(0)\n",
    "        correct += (predicted == labels).sum().item()\n",
    "\n",
    "print(f\"Accuracy of the network on the 10000 test images: {100 * correct//total} %\")"
   ],
   "outputs": [
    {
     "name": "stdout",
     "output_type": "stream",
     "text": [
      "Accuracy of the network on the 10000 test images: 60 %\n"
     ]
    }
   ],
   "execution_count": 37
  },
  {
   "cell_type": "code",
   "id": "f195cb8a",
   "metadata": {
    "ExecuteTime": {
     "end_time": "2025-08-27T12:27:19.242648Z",
     "start_time": "2025-08-27T12:27:12.325045Z"
    }
   },
   "source": [
    "# check accuracy for each class\n",
    "correct_pred = {classname: 0 for classname in classes}\n",
    "total_pred = {classname: 0 for classname in classes}\n",
    "\n",
    "with torch.no_grad():\n",
    "    for data in testloader:\n",
    "        images, labels = data\n",
    "        images = images.to(device)\n",
    "        labels = labels.to(device)\n",
    "        outputs = net(images)\n",
    "        _, predictions = torch.max(outputs, 1)\n",
    "        for label, prediction in zip(labels, predictions):\n",
    "            if label == prediction:\n",
    "                correct_pred[classes[label]] += 1\n",
    "            total_pred[classes[label]] += 1\n",
    "\n",
    "for classname, correct_count in correct_pred.items():\n",
    "    accuracy = 100 * float(correct_count)/total_pred[classname]\n",
    "    print(f\"Accuracy for class: {classname:5s} is {accuracy:.1f} %\")"
   ],
   "outputs": [
    {
     "name": "stdout",
     "output_type": "stream",
     "text": [
      "Accuracy for class: plane is 62.2 %\n",
      "Accuracy for class: car   is 70.8 %\n",
      "Accuracy for class: bird  is 52.1 %\n",
      "Accuracy for class: cat   is 35.0 %\n",
      "Accuracy for class: deer  is 48.4 %\n",
      "Accuracy for class: dog   is 51.5 %\n",
      "Accuracy for class: frog  is 85.4 %\n",
      "Accuracy for class: horse is 60.2 %\n",
      "Accuracy for class: ship  is 77.5 %\n",
      "Accuracy for class: truck is 60.7 %\n"
     ]
    }
   ],
   "execution_count": 38
  },
  {
   "cell_type": "code",
   "execution_count": null,
   "id": "054b77e9",
   "metadata": {},
   "outputs": [],
   "source": []
  }
 ],
 "metadata": {
  "kernelspec": {
   "display_name": "Python 3",
   "language": "python",
   "name": "python3"
  },
  "language_info": {
   "codemirror_mode": {
    "name": "ipython",
    "version": 3
   },
   "file_extension": ".py",
   "mimetype": "text/x-python",
   "name": "python",
   "nbconvert_exporter": "python",
   "pygments_lexer": "ipython3",
   "version": "3.13.7"
  }
 },
 "nbformat": 4,
 "nbformat_minor": 5
}
