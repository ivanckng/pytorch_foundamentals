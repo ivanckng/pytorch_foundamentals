{
 "cells": [
  {
   "metadata": {},
   "cell_type": "markdown",
   "source": [
    "**Basic Steps**\n",
    "1. Import necessary packages\n",
    "2. Create fully connected networks\n",
    "3. Set devices\n",
    "4. Hyperparameters\n",
    "5. Load data\n",
    "6. Loss and optimiser\n",
    "7. Train network\n",
    "8. Check accuracy on training & test to see how good our model"
   ],
   "id": "3164ea82c4bea37"
  },
  {
   "metadata": {
    "ExecuteTime": {
     "end_time": "2025-08-26T05:44:03.144908Z",
     "start_time": "2025-08-26T05:44:03.141051Z"
    }
   },
   "cell_type": "code",
   "source": [
    "import torch\n",
    "import torch.nn as nn # neural network and loss function\n",
    "import torch.optim as optim # optimisation algorithm\n",
    "import torch.nn.functional as F\n",
    "from torch.utils.data import DataLoader # easier to data management\n",
    "import torchvision.datasets as datasets # standard datasets\n",
    "import torchvision.transforms as transforms # transformations we can perform on the dataset"
   ],
   "id": "15052d8f8dcc7cdf",
   "outputs": [],
   "execution_count": 3
  },
  {
   "metadata": {
    "ExecuteTime": {
     "end_time": "2025-08-26T06:00:20.271864Z",
     "start_time": "2025-08-26T06:00:20.268496Z"
    }
   },
   "cell_type": "code",
   "source": [
    "# Create fully connected networks\n",
    "'''\n",
    "fully connected means every neuron in one layer connects to every neuron in the next layer. Each connection has its own weight, and each neuron usually has a bias term.\n",
    "'''\n",
    "class NN(nn.Module):\n",
    "    def __init__(self, input_size, num_classes):\n",
    "        super(NN, self).__init__()\n",
    "        self.fc1 = nn.Linear(input_size, 50)\n",
    "        self.fc2 = nn.Linear(50, num_classes)\n",
    "    def forward(self,x):\n",
    "        x = F.relu(self.fc1(x))\n",
    "        x = self.fc2(x)\n",
    "        return x"
   ],
   "id": "b0d5f0161c7d8d86",
   "outputs": [],
   "execution_count": 5
  },
  {
   "metadata": {
    "ExecuteTime": {
     "end_time": "2025-08-26T06:00:44.740886Z",
     "start_time": "2025-08-26T06:00:44.710707Z"
    }
   },
   "cell_type": "code",
   "source": [
    "# set device\n",
    "device = torch.device(\"cuda:0\" if torch.cuda.is_available() else \"cpu\")"
   ],
   "id": "7616bb97c562b4",
   "outputs": [],
   "execution_count": 6
  },
  {
   "metadata": {
    "ExecuteTime": {
     "end_time": "2025-08-26T06:01:24.677625Z",
     "start_time": "2025-08-26T06:01:24.672586Z"
    }
   },
   "cell_type": "code",
   "source": [
    "# Hyperparameters\n",
    "input_size = 784\n",
    "num_classes = 10\n",
    "learning_rate = 0.001\n",
    "batch_size = 64\n",
    "num_epochs = 1 # one round of forward and backward propagation"
   ],
   "id": "83ca0626112fadc2",
   "outputs": [],
   "execution_count": 7
  },
  {
   "metadata": {
    "ExecuteTime": {
     "end_time": "2025-08-26T06:04:07.624738Z",
     "start_time": "2025-08-26T06:03:52.632329Z"
    }
   },
   "cell_type": "code",
   "source": [
    "# Load data\n",
    "train_dataset = datasets.MNIST(root = 'dataset/', train = True, download = True, transform = transforms.ToTensor())\n",
    "train_loader = DataLoader(train_dataset, batch_size = batch_size, shuffle = True)\n",
    "test_dataset = datasets.MNIST(root = 'dataset/', train = False, download = True, transform = transforms.ToTensor())\n",
    "test_loader = DataLoader(test_dataset, batch_size = batch_size, shuffle = False)"
   ],
   "id": "88c8d7aa1253ae52",
   "outputs": [
    {
     "name": "stderr",
     "output_type": "stream",
     "text": [
      "100.0%\n",
      "100.0%\n",
      "100.0%\n",
      "100.0%\n"
     ]
    }
   ],
   "execution_count": 8
  },
  {
   "metadata": {
    "ExecuteTime": {
     "end_time": "2025-08-26T06:04:42.860157Z",
     "start_time": "2025-08-26T06:04:42.780407Z"
    }
   },
   "cell_type": "code",
   "source": [
    "# initialise neural network\n",
    "model = NN(input_size, num_classes).to(device)"
   ],
   "id": "299203a3372f125b",
   "outputs": [],
   "execution_count": 9
  },
  {
   "metadata": {
    "ExecuteTime": {
     "end_time": "2025-08-26T06:05:35.625720Z",
     "start_time": "2025-08-26T06:05:35.621953Z"
    }
   },
   "cell_type": "code",
   "source": [
    "# Loss and optimiser\n",
    "criterion = nn.CrossEntropyLoss()\n",
    "optimizer = optim.Adam(model.parameters(), lr = learning_rate)"
   ],
   "id": "3b3526a7c8562093",
   "outputs": [],
   "execution_count": 11
  },
  {
   "metadata": {
    "ExecuteTime": {
     "end_time": "2025-08-26T06:16:53.005878Z",
     "start_time": "2025-08-26T06:16:48.579973Z"
    }
   },
   "cell_type": "code",
   "source": [
    "# Train Network\n",
    "for epoch in range(num_epochs):\n",
    "    for batch_idx, (data, targets) in enumerate(train_loader):\n",
    "        # get data to cuda if possible\n",
    "        data = data.to(device = device)\n",
    "        targets = targets.to(device = device)\n",
    "        # get to correct shape\n",
    "        data = data.reshape(data.shape[0], -1)\n",
    "        # forward\n",
    "        scores = model(data)\n",
    "        loss = criterion(scores, targets)\n",
    "        # backward\n",
    "        optimizer.zero_grad() # set all gradients to zero for each batch\n",
    "        loss.backward()\n",
    "\n",
    "        #gradient descent or adam step\n",
    "        optimizer.step()"
   ],
   "id": "7a59362d4024bb0a",
   "outputs": [],
   "execution_count": 15
  },
  {
   "metadata": {
    "ExecuteTime": {
     "end_time": "2025-08-26T06:28:35.020617Z",
     "start_time": "2025-08-26T06:28:35.013056Z"
    }
   },
   "cell_type": "code",
   "source": [
    "# check accuracy on training & test to see how good our model\n",
    "def check_accuracy(loader, model):\n",
    "    if loader.dataset.train:\n",
    "        print(\"Checking accuracy on training dataset\")\n",
    "    else:\n",
    "        print(\"Checking accuracy on test dataset\")\n",
    "    num_correct = 0\n",
    "    num_samples = 0\n",
    "    model.eval()\n",
    "\n",
    "    with torch.no_grad():\n",
    "        for data, target in loader:\n",
    "            data = data.to(device = device)\n",
    "            target = target.to(device = device)\n",
    "            data = data.reshape(data.shape[0], -1)\n",
    "            scores = model(data)\n",
    "            _, predictions = scores.max(1)\n",
    "            num_correct += (predictions == target).sum()\n",
    "            num_samples += predictions.size(0)\n",
    "        print(f\"Got {num_correct} / {num_samples} correct predictions with accuracy {num_correct / num_samples * 100:.2f}%\")\n",
    "        acc = num_correct / num_samples * 100\n",
    "        model.train()\n",
    "        return acc"
   ],
   "id": "659f8474ce628fa",
   "outputs": [],
   "execution_count": 21
  },
  {
   "metadata": {
    "ExecuteTime": {
     "end_time": "2025-08-26T06:28:40.252335Z",
     "start_time": "2025-08-26T06:28:35.476539Z"
    }
   },
   "cell_type": "code",
   "source": "check_accuracy(train_loader, model)",
   "id": "768e5810100d7c06",
   "outputs": [
    {
     "name": "stdout",
     "output_type": "stream",
     "text": [
      "Checking accuracy on training dataset\n",
      "Got 55675 / 60000 correct predictions with accuracy 92.79%\n"
     ]
    },
    {
     "data": {
      "text/plain": [
       "tensor(92.7917, device='cuda:0')"
      ]
     },
     "execution_count": 22,
     "metadata": {},
     "output_type": "execute_result"
    }
   ],
   "execution_count": 22
  },
  {
   "metadata": {
    "ExecuteTime": {
     "end_time": "2025-08-26T06:28:56.356656Z",
     "start_time": "2025-08-26T06:28:55.811433Z"
    }
   },
   "cell_type": "code",
   "source": "check_accuracy(test_loader, model)",
   "id": "8342ad646d93480b",
   "outputs": [
    {
     "name": "stdout",
     "output_type": "stream",
     "text": [
      "Checking accuracy on test dataset\n",
      "Got 9294 / 10000 correct predictions with accuracy 92.94%\n"
     ]
    },
    {
     "data": {
      "text/plain": [
       "tensor(92.9400, device='cuda:0')"
      ]
     },
     "execution_count": 23,
     "metadata": {},
     "output_type": "execute_result"
    }
   ],
   "execution_count": 23
  },
  {
   "metadata": {},
   "cell_type": "code",
   "outputs": [],
   "execution_count": null,
   "source": "",
   "id": "b5c898748d01f49e"
  }
 ],
 "metadata": {
  "kernelspec": {
   "display_name": "Python 3",
   "language": "python",
   "name": "python3"
  },
  "language_info": {
   "codemirror_mode": {
    "name": "ipython",
    "version": 2
   },
   "file_extension": ".py",
   "mimetype": "text/x-python",
   "name": "python",
   "nbconvert_exporter": "python",
   "pygments_lexer": "ipython2",
   "version": "2.7.6"
  }
 },
 "nbformat": 4,
 "nbformat_minor": 5
}
