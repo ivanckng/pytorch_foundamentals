{
 "cells": [
  {
   "cell_type": "markdown",
   "id": "335b20a7",
   "metadata": {},
   "source": []
  }
 ],
 "metadata": {
  "language_info": {
   "name": "python"
  }
 },
 "nbformat": 4,
 "nbformat_minor": 5
}
